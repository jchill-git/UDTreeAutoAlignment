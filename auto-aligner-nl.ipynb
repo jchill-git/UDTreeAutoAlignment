{
 "cells": [
  {
   "cell_type": "code",
   "execution_count": 1,
   "metadata": {},
   "outputs": [],
   "source": [
    "import stanza\n",
    "import spacy\n",
    "import pandas as pd\n",
    "import numpy as np\n",
    "import re\n",
    "import string"
   ]
  },
  {
   "cell_type": "code",
   "execution_count": 90,
   "metadata": {},
   "outputs": [],
   "source": [
    "sent_nl = \"soms vraagt ze me waarom ik haar vader Harold noemde\"\n",
    "sent_en = \"sometimes she asks me why I used to call her father Harold\""
   ]
  },
  {
   "cell_type": "code",
   "execution_count": 91,
   "metadata": {},
   "outputs": [],
   "source": [
    "nlp_en = spacy.load(\"en_core_web_sm\")\n",
    "nlp_nl = spacy.load(\"nl_core_news_sm\")"
   ]
  },
  {
   "cell_type": "code",
   "execution_count": 92,
   "metadata": {},
   "outputs": [],
   "source": [
    "doc_en = nlp_en(sent_en)\n",
    "doc_nl = nlp_nl(sent_nl)"
   ]
  },
  {
   "cell_type": "code",
   "execution_count": 103,
   "metadata": {},
   "outputs": [
    {
     "name": "stdout",
     "output_type": "stream",
     "text": [
      "English:\n",
      "sometimes\tadvmod\tasks\tADV\t[]\n",
      "she\tnsubj\tasks\tPRON\t[]\n",
      "asks\tROOT\tasks\tVERB\t[sometimes, she, me, used]\n",
      "me\tdobj\tasks\tPRON\t[]\n",
      "why\tadvmod\tused\tSCONJ\t[]\n",
      "I\tnsubj\tused\tPRON\t[]\n",
      "used\tccomp\tasks\tVERB\t[why, I, call]\n",
      "to\taux\tcall\tPART\t[]\n",
      "call\txcomp\tused\tVERB\t[to, father, Harold]\n",
      "her\tposs\tfather\tPRON\t[]\n",
      "father\tdobj\tcall\tNOUN\t[her]\n",
      "Harold\toprd\tcall\tPROPN\t[]\n",
      "\n",
      "Dutch:\n",
      "soms\tadvmod\tvraagt\tADV\t[]\n",
      "vraagt\tROOT\tvraagt\tVERB\t[soms, ze, me, noemde]\n",
      "ze\tnsubj\tvraagt\tPRON\t[]\n",
      "me\tiobj\tvraagt\tPRON\t[]\n",
      "waarom\tadvmod\tnoemde\tADV\t[]\n",
      "ik\tnsubj\tnoemde\tPRON\t[]\n",
      "haar\tnmod:poss\tvader\tPRON\t[]\n",
      "vader\tobj\tnoemde\tNOUN\t[haar, Harold]\n",
      "Harold\tappos\tvader\tPROPN\t[]\n",
      "noemde\tccomp\tvraagt\tVERB\t[waarom, ik, vader]\n"
     ]
    }
   ],
   "source": [
    "print(\"English:\")\n",
    "ud_tree_en = dict()\n",
    "for token in doc_en:\n",
    "    print(token.text, token.dep_, token.head.text, token.pos_,\n",
    "            [child for child in token.children], sep=\"\\t\")\n",
    "    \n",
    "    ud_tree_en[token.text] = [token.dep_, [child for child in token.children]]\n",
    "\n",
    "print(\"\\nDutch:\")\n",
    "ud_tree_nl = dict()\n",
    "for token in doc_nl:\n",
    "    print(token.text, token.dep_, token.head.text, token.pos_,\n",
    "            [child for child in token.children], sep=\"\\t\")\n",
    "    \n",
    "    ud_tree_nl[token.text] = [token.dep_, [child for child in token.children]]"
   ]
  },
  {
   "cell_type": "code",
   "execution_count": 104,
   "metadata": {},
   "outputs": [
    {
     "name": "stdout",
     "output_type": "stream",
     "text": [
      "\n",
      "English UD tree:\n",
      "{'sometimes': ['advmod', []], 'she': ['nsubj', []], 'asks': ['ROOT', [sometimes, she, me, used]], 'me': ['dobj', []], 'why': ['advmod', []], 'I': ['nsubj', []], 'used': ['ccomp', [why, I, call]], 'to': ['aux', []], 'call': ['xcomp', [to, father, Harold]], 'her': ['poss', []], 'father': ['dobj', [her]], 'Harold': ['oprd', []]}\n",
      "\n",
      "Dutch UD tree:\n",
      "{'soms': ['advmod', []], 'vraagt': ['ROOT', [soms, ze, me, noemde]], 'ze': ['nsubj', []], 'me': ['iobj', []], 'waarom': ['advmod', []], 'ik': ['nsubj', []], 'haar': ['nmod:poss', []], 'vader': ['obj', [haar, Harold]], 'Harold': ['appos', []], 'noemde': ['ccomp', [waarom, ik, vader]]}\n"
     ]
    }
   ],
   "source": [
    "print(\"\\nEnglish UD tree:\")\n",
    "print(ud_tree_en)\n",
    "\n",
    "print(\"\\nDutch UD tree:\")\n",
    "print(ud_tree_nl)"
   ]
  },
  {
   "cell_type": "code",
   "execution_count": 105,
   "metadata": {},
   "outputs": [
    {
     "name": "stdout",
     "output_type": "stream",
     "text": [
      "\n",
      "English root: asks\n",
      "Dutch root: vraagt\n"
     ]
    }
   ],
   "source": [
    "root_en = [key for key in ud_tree_en.keys() if ud_tree_en[key][0] == \"ROOT\"][0]\n",
    "root_nl = [key for key in ud_tree_nl.keys() if ud_tree_nl[key][0] == \"ROOT\"][0]\n",
    "\n",
    "print(\"\\nEnglish root:\", root_en)\n",
    "print(\"Dutch root:\", root_nl)"
   ]
  },
  {
   "cell_type": "code",
   "execution_count": 119,
   "metadata": {},
   "outputs": [],
   "source": [
    "def check_node(root_en, root_nl, parent_en=None, parent_nl=None):\n",
    "    matches = list()\n",
    "\n",
    "    pos_en, children_en = ud_tree_en[root_en]\n",
    "    pos_nl, children_nl = ud_tree_nl[root_nl]\n",
    "\n",
    "    # Ignore/match across direct/indirect objects\n",
    "    if pos_en == \"iobj\" or pos_en == \"dobj\":\n",
    "        pos_en = \"obj\"\n",
    "    if pos_nl == \"iobj\" or pos_nl == \"dobj\":\n",
    "        pos_nl = \"obj\"\n",
    "\n",
    "    # Ignore/match across modifiers\n",
    "    pos_en = pos_en.split(\":\")[-1]\n",
    "    pos_nl = pos_nl.split(\":\")[-1]\n",
    "\n",
    "    if pos_en == pos_nl:\n",
    "        matches.append((root_en, root_nl))\n",
    "        print(\"Match:\", root_en, root_nl, \"for dep\", pos_en)\n",
    "\n",
    "    for child_en in children_en:\n",
    "        for child_nl in children_nl:\n",
    "            matches.extend(check_node(child_en.text, child_nl.text, parent_en=root_en, parent_nl=root_nl))\n",
    "\n",
    "    return matches"
   ]
  },
  {
   "cell_type": "code",
   "execution_count": 120,
   "metadata": {},
   "outputs": [
    {
     "name": "stdout",
     "output_type": "stream",
     "text": [
      "Match: asks vraagt for dep ROOT\n",
      "Match: sometimes soms for dep advmod\n",
      "Match: she ze for dep nsubj\n",
      "Match: me me for dep obj\n",
      "Match: used noemde for dep ccomp\n",
      "Match: why waarom for dep advmod\n",
      "Match: I ik for dep nsubj\n",
      "\n",
      "Matches:\n",
      "[('asks', 'vraagt'), ('sometimes', 'soms'), ('she', 'ze'), ('me', 'me'), ('used', 'noemde'), ('why', 'waarom'), ('I', 'ik')]\n"
     ]
    }
   ],
   "source": [
    "matches = check_node(root_en, root_nl)\n",
    "print(\"\\nMatches:\")\n",
    "print(matches)\n",
    "\n",
    "matched_en = [match[0] for match in matches]\n",
    "matched_nl = [match[1] for match in matches]\n",
    "\n",
    "unmatched_en = [token for token in doc_en if token.text not in matched_en]\n",
    "unmatched_nl = [token for token in doc_nl if token.text not in matched_nl]"
   ]
  },
  {
   "cell_type": "code",
   "execution_count": 121,
   "metadata": {},
   "outputs": [
    {
     "name": "stdout",
     "output_type": "stream",
     "text": [
      "to\taux\tcall\tPART\t[]\n",
      "call\txcomp\tused\tVERB\t[to, father, Harold]\n",
      "her\tposs\tfather\tPRON\t[]\n",
      "father\tobj\tcall\tNOUN\t[her]\n",
      "Harold\toprd\tcall\tPROPN\t[]\n",
      "\n",
      "haar\tposs\tvader\tPRON\t[]\n",
      "vader\tobj\tnoemde\tNOUN\t[haar, Harold]\n",
      "Harold\tappos\tvader\tPROPN\t[]\n"
     ]
    }
   ],
   "source": [
    "for token in unmatched_en:\n",
    "    print(token.text, token.dep_, token.head.text, token.pos_,\n",
    "            [child for child in token.children], sep=\"\\t\")\n",
    "    \n",
    "print()\n",
    "\n",
    "for token in unmatched_nl:\n",
    "    print(token.text, token.dep_, token.head.text, token.pos_,\n",
    "            [child for child in token.children], sep=\"\\t\")"
   ]
  },
  {
   "cell_type": "code",
   "execution_count": 122,
   "metadata": {},
   "outputs": [
    {
     "name": "stdout",
     "output_type": "stream",
     "text": [
      "to aux\n",
      "call xcomp\n",
      "her poss\n",
      "father obj\n",
      "Harold oprd\n",
      "haar poss\n",
      "vader obj\n",
      "Harold appos\n"
     ]
    }
   ],
   "source": [
    "for token in [*unmatched_en, *unmatched_nl]:\n",
    "    # Ignore/match across direct/indirect objects\n",
    "    if token.dep_ == \"iobj\" or token.dep_ == \"dobj\":\n",
    "        token.dep_ = \"obj\"\n",
    "\n",
    "    # Ignore/match across modifiers\n",
    "    token.dep_ = token.dep_.split(\":\")[-1]\n",
    "\n",
    "    print(token.text, token.dep_)"
   ]
  },
  {
   "cell_type": "code",
   "execution_count": 123,
   "metadata": {},
   "outputs": [
    {
     "name": "stdout",
     "output_type": "stream",
     "text": [
      "Match: her haar for dep poss\n",
      "Match: father vader for dep obj\n"
     ]
    }
   ],
   "source": [
    "# Match remaining tokens\n",
    "for token_en in unmatched_en:\n",
    "    for token_nl in unmatched_nl:\n",
    "        if token_en.dep_ == token_nl.dep_:\n",
    "            print(\"Match:\", token_en.text, token_nl.text, \"for dep\", token_en.dep_)\n",
    "            matches.append((token_en.text, token_nl.text))"
   ]
  },
  {
   "cell_type": "code",
   "execution_count": 124,
   "metadata": {},
   "outputs": [
    {
     "data": {
      "text/plain": [
       "[('asks', 'vraagt'),\n",
       " ('sometimes', 'soms'),\n",
       " ('she', 'ze'),\n",
       " ('me', 'me'),\n",
       " ('used', 'noemde'),\n",
       " ('why', 'waarom'),\n",
       " ('I', 'ik'),\n",
       " ('her', 'haar'),\n",
       " ('father', 'vader')]"
      ]
     },
     "execution_count": 124,
     "metadata": {},
     "output_type": "execute_result"
    }
   ],
   "source": [
    "matches"
   ]
  },
  {
   "cell_type": "code",
   "execution_count": null,
   "metadata": {},
   "outputs": [],
   "source": []
  }
 ],
 "metadata": {
  "kernelspec": {
   "display_name": "NLP",
   "language": "python",
   "name": "python3"
  },
  "language_info": {
   "codemirror_mode": {
    "name": "ipython",
    "version": 3
   },
   "file_extension": ".py",
   "mimetype": "text/x-python",
   "name": "python",
   "nbconvert_exporter": "python",
   "pygments_lexer": "ipython3",
   "version": "3.10.11"
  },
  "orig_nbformat": 4
 },
 "nbformat": 4,
 "nbformat_minor": 2
}
