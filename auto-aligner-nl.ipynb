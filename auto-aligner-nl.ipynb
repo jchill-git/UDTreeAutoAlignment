{
 "cells": [
  {
   "cell_type": "code",
   "execution_count": 205,
   "metadata": {},
   "outputs": [],
   "source": [
    "import stanza\n",
    "import spacy\n",
    "import pandas as pd\n",
    "import numpy as np\n",
    "import re\n",
    "import string"
   ]
  },
  {
   "cell_type": "code",
   "execution_count": 206,
   "metadata": {},
   "outputs": [],
   "source": [
    "sent_nl = \"soms vraagt ze me waarom ik haar vader Harold noemde\"\n",
    "sent_en = \"sometimes she asks me why I used to call her father Harold\"\n",
    "sent_fr = \"parfois elle me demande pourquoi j'appelais son père Harold\"\n",
    "sent_fi = \"joskus hän kysyy minulta, miksi kutsuin hänen isäänsä Haroldiksi\""
   ]
  },
  {
   "cell_type": "code",
   "execution_count": 207,
   "metadata": {},
   "outputs": [],
   "source": [
    "# !python -m spacy download en_core_web_sm\n",
    "# !python -m spacy download nl_core_news_sm\n",
    "# !python -m spacy download fr_core_news_sm\n",
    "# !python -m spacy download fi_core_news_sm\n",
    "\n",
    "nlp_en = spacy.load(\"en_core_web_sm\")\n",
    "nlp_nl = spacy.load(\"nl_core_news_sm\")\n",
    "nlp_fr = spacy.load(\"fr_core_news_sm\")\n",
    "nlp_fi = spacy.load(\"fi_core_news_sm\")"
   ]
  },
  {
   "cell_type": "code",
   "execution_count": 208,
   "metadata": {},
   "outputs": [],
   "source": [
    "doc_en = nlp_en(sent_en)\n",
    "doc_nl = nlp_nl(sent_nl)\n",
    "doc_fr = nlp_fr(sent_fr)\n",
    "doc_fi = nlp_fi(sent_fi)"
   ]
  },
  {
   "cell_type": "code",
   "execution_count": 209,
   "metadata": {},
   "outputs": [
    {
     "name": "stdout",
     "output_type": "stream",
     "text": [
      "English:\n",
      "sometimes\tadvmod\tasks\tADV\t[]\n",
      "she\tnsubj\tasks\tPRON\t[]\n",
      "asks\tROOT\tasks\tVERB\t[sometimes, she, me, used]\n",
      "me\tdobj\tasks\tPRON\t[]\n",
      "why\tadvmod\tused\tSCONJ\t[]\n",
      "I\tnsubj\tused\tPRON\t[]\n",
      "used\tccomp\tasks\tVERB\t[why, I, call]\n",
      "to\taux\tcall\tPART\t[]\n",
      "call\txcomp\tused\tVERB\t[to, father, Harold]\n",
      "her\tposs\tfather\tPRON\t[]\n",
      "father\tdobj\tcall\tNOUN\t[her]\n",
      "Harold\toprd\tcall\tPROPN\t[]\n",
      "\n",
      "Dutch:\n",
      "soms\tadvmod\tvraagt\tADV\t[]\n",
      "vraagt\tROOT\tvraagt\tVERB\t[soms, ze, me, noemde]\n",
      "ze\tnsubj\tvraagt\tPRON\t[]\n",
      "me\tiobj\tvraagt\tPRON\t[]\n",
      "waarom\tadvmod\tnoemde\tADV\t[]\n",
      "ik\tnsubj\tnoemde\tPRON\t[]\n",
      "haar\tnmod:poss\tvader\tPRON\t[]\n",
      "vader\tobj\tnoemde\tNOUN\t[haar, Harold]\n",
      "Harold\tappos\tvader\tPROPN\t[]\n",
      "noemde\tccomp\tvraagt\tVERB\t[waarom, ik, vader]\n",
      "\n",
      "French:\n",
      "parfois\tadvmod\tdemande\tADV\t[]\n",
      "elle\tnsubj\tdemande\tPRON\t[]\n",
      "me\tiobj\tdemande\tPRON\t[]\n",
      "demande\tROOT\tdemande\tVERB\t[parfois, elle, me, appelais]\n",
      "pourquoi\tadvmod\tappelais\tADV\t[]\n",
      "j'\tnsubj\tappelais\tPRON\t[]\n",
      "appelais\tccomp\tdemande\tVERB\t[pourquoi, j', père]\n",
      "son\tdet\tpère\tDET\t[]\n",
      "père\tobj\tappelais\tNOUN\t[son, Harold]\n",
      "Harold\tflat:name\tpère\tPROPN\t[]\n",
      "\n",
      "Finnish:\n",
      "joskus\tadvmod\tkysyy\tADV\t[]\n",
      "hän\tnsubj\tkysyy\tPRON\t[]\n",
      "kysyy\tROOT\tkysyy\tVERB\t[joskus, hän, minulta, kutsuin]\n",
      "minulta\tobl\tkysyy\tPRON\t[]\n",
      ",\tpunct\tkutsuin\tPUNCT\t[]\n",
      "miksi\tadvmod\tkutsuin\tADV\t[]\n",
      "kutsuin\tccomp\tkysyy\tVERB\t[,, miksi, isäänsä, Haroldiksi]\n",
      "hänen\tnmod:poss\tisäänsä\tPRON\t[]\n",
      "isäänsä\tobj\tkutsuin\tNOUN\t[hänen]\n",
      "Haroldiksi\tobl\tkutsuin\tPROPN\t[]\n"
     ]
    }
   ],
   "source": [
    "print(\"English:\")\n",
    "ud_tree_en = dict()\n",
    "for token in doc_en:\n",
    "    print(token.text, token.dep_, token.head.text, token.pos_,\n",
    "            [child for child in token.children], sep=\"\\t\")\n",
    "    \n",
    "    ud_tree_en[token.text] = [token.dep_, [child for child in token.children]]\n",
    "\n",
    "print(\"\\nDutch:\")\n",
    "ud_tree_nl = dict()\n",
    "for token in doc_nl:\n",
    "    print(token.text, token.dep_, token.head.text, token.pos_,\n",
    "        [child for child in token.children], sep=\"\\t\")\n",
    "    \n",
    "    ud_tree_nl[token.text] = [token.dep_, [child for child in token.children]]\n",
    "\n",
    "print(\"\\nFrench:\")\n",
    "ud_tree_fr = dict()\n",
    "for token in doc_fr:\n",
    "    print(token.text, token.dep_, token.head.text, token.pos_,\n",
    "        [child for child in token.children], sep=\"\\t\")\n",
    "\n",
    "    ud_tree_fr[token.text] = [token.dep_, [child for child in token.children]]\n",
    "\n",
    "print(\"\\nFinnish:\")\n",
    "ud_tree_fi = dict()\n",
    "for token in doc_fi:\n",
    "    print(token.text, token.dep_, token.head.text, token.pos_,\n",
    "        [child for child in token.children], sep=\"\\t\")\n",
    "    \n",
    "    ud_tree_fi[token.text] = [token.dep_, [child for child in token.children]]"
   ]
  },
  {
   "cell_type": "code",
   "execution_count": 210,
   "metadata": {},
   "outputs": [
    {
     "name": "stdout",
     "output_type": "stream",
     "text": [
      "\n",
      "English UD tree:\n",
      "{'sometimes': ['advmod', []], 'she': ['nsubj', []], 'asks': ['ROOT', [sometimes, she, me, used]], 'me': ['dobj', []], 'why': ['advmod', []], 'I': ['nsubj', []], 'used': ['ccomp', [why, I, call]], 'to': ['aux', []], 'call': ['xcomp', [to, father, Harold]], 'her': ['poss', []], 'father': ['dobj', [her]], 'Harold': ['oprd', []]}\n",
      "\n",
      "Dutch UD tree:\n",
      "{'soms': ['advmod', []], 'vraagt': ['ROOT', [soms, ze, me, noemde]], 'ze': ['nsubj', []], 'me': ['iobj', []], 'waarom': ['advmod', []], 'ik': ['nsubj', []], 'haar': ['nmod:poss', []], 'vader': ['obj', [haar, Harold]], 'Harold': ['appos', []], 'noemde': ['ccomp', [waarom, ik, vader]]}\n",
      "\n",
      "French UD tree:\n",
      "{'parfois': ['advmod', []], 'elle': ['nsubj', []], 'me': ['iobj', []], 'demande': ['ROOT', [parfois, elle, me, appelais]], 'pourquoi': ['advmod', []], \"j'\": ['nsubj', []], 'appelais': ['ccomp', [pourquoi, j', père]], 'son': ['det', []], 'père': ['obj', [son, Harold]], 'Harold': ['flat:name', []]}\n",
      "\n",
      "Finnish UD tree:\n",
      "{'joskus': ['advmod', []], 'hän': ['nsubj', []], 'kysyy': ['ROOT', [joskus, hän, minulta, kutsuin]], 'minulta': ['obl', []], ',': ['punct', []], 'miksi': ['advmod', []], 'kutsuin': ['ccomp', [,, miksi, isäänsä, Haroldiksi]], 'hänen': ['nmod:poss', []], 'isäänsä': ['obj', [hänen]], 'Haroldiksi': ['obl', []]}\n"
     ]
    }
   ],
   "source": [
    "print(\"\\nEnglish UD tree:\")\n",
    "print(ud_tree_en)\n",
    "\n",
    "print(\"\\nDutch UD tree:\")\n",
    "print(ud_tree_nl)\n",
    "\n",
    "print(\"\\nFrench UD tree:\")\n",
    "print(ud_tree_fr)\n",
    "\n",
    "print(\"\\nFinnish UD tree:\")\n",
    "print(ud_tree_fi)"
   ]
  },
  {
   "cell_type": "code",
   "execution_count": 211,
   "metadata": {},
   "outputs": [
    {
     "name": "stdout",
     "output_type": "stream",
     "text": [
      "\n",
      "English root: asks\n",
      "Dutch root: vraagt\n",
      "French root: demande\n",
      "Finnish root: kysyy\n"
     ]
    }
   ],
   "source": [
    "root_en = [key for key in ud_tree_en.keys() if ud_tree_en[key][0] == \"ROOT\"][0]\n",
    "root_nl = [key for key in ud_tree_nl.keys() if ud_tree_nl[key][0] == \"ROOT\"][0]\n",
    "root_fr = [key for key in ud_tree_fr.keys() if ud_tree_fr[key][0] == \"ROOT\"][0]\n",
    "root_fi = [key for key in ud_tree_fi.keys() if ud_tree_fi[key][0] == \"ROOT\"][0]\n",
    "\n",
    "print(\"\\nEnglish root:\", root_en)\n",
    "print(\"Dutch root:\", root_nl)\n",
    "print(\"French root:\", root_fr)\n",
    "print(\"Finnish root:\", root_fi)"
   ]
  },
  {
   "cell_type": "code",
   "execution_count": 212,
   "metadata": {},
   "outputs": [],
   "source": [
    "def check_node(root_en, root_nl, parent_en=None, parent_nl=None):\n",
    "    matches = list()\n",
    "\n",
    "    pos_en, children_en = ud_tree_en[root_en]\n",
    "    pos_nl, children_nl = ud_tree_fi[root_nl]\n",
    "\n",
    "    # Ignore/match across direct/indirect objects\n",
    "    if pos_en == \"iobj\" or pos_en == \"dobj\":\n",
    "        pos_en = \"obj\"\n",
    "    if pos_nl == \"iobj\" or pos_nl == \"dobj\":\n",
    "        pos_nl = \"obj\"\n",
    "\n",
    "    # Ignore/match across modifiers\n",
    "    pos_en = pos_en.split(\":\")[-1]\n",
    "    pos_nl = pos_nl.split(\":\")[-1]\n",
    "\n",
    "    if pos_en == pos_nl and pos_en != \"punct\" and pos_nl != \"punct\":\n",
    "        matches.append((root_en, root_nl))\n",
    "        print(\"Match:\", root_en, root_nl, \"for pos\", pos_en)\n",
    "\n",
    "    for child_en in children_en:\n",
    "        for child_nl in children_nl:\n",
    "            matches.extend(check_node(child_en.text, child_nl.text, parent_en=root_en, parent_nl=root_nl))\n",
    "\n",
    "    return matches"
   ]
  },
  {
   "cell_type": "code",
   "execution_count": 213,
   "metadata": {},
   "outputs": [
    {
     "name": "stdout",
     "output_type": "stream",
     "text": [
      "Match: asks kysyy for pos ROOT\n",
      "Match: sometimes joskus for pos advmod\n",
      "Match: she hän for pos nsubj\n",
      "Match: used kutsuin for pos ccomp\n",
      "Match: why miksi for pos advmod\n",
      "\n",
      "Matches:\n",
      "[('asks', 'kysyy'), ('sometimes', 'joskus'), ('she', 'hän'), ('used', 'kutsuin'), ('why', 'miksi')]\n"
     ]
    }
   ],
   "source": [
    "matches = check_node(root_en, root_fi)\n",
    "print(\"\\nMatches:\")\n",
    "print(matches)\n",
    "\n",
    "matched_en = [match[0] for match in matches]\n",
    "matched_fi = [match[1] for match in matches]\n",
    "\n",
    "unmatched_en = [token for token in doc_en if token.text not in matched_en]\n",
    "unmatched_nl = [token for token in doc_fi if token.text not in matched_fi]"
   ]
  },
  {
   "cell_type": "code",
   "execution_count": 214,
   "metadata": {},
   "outputs": [
    {
     "name": "stdout",
     "output_type": "stream",
     "text": [
      "me\tdobj\tasks\tPRON\t[]\n",
      "I\tnsubj\tused\tPRON\t[]\n",
      "to\taux\tcall\tPART\t[]\n",
      "call\txcomp\tused\tVERB\t[to, father, Harold]\n",
      "her\tposs\tfather\tPRON\t[]\n",
      "father\tdobj\tcall\tNOUN\t[her]\n",
      "Harold\toprd\tcall\tPROPN\t[]\n",
      "\n",
      "minulta\tobl\tkysyy\tPRON\t[]\n",
      ",\tpunct\tkutsuin\tPUNCT\t[]\n",
      "hänen\tnmod:poss\tisäänsä\tPRON\t[]\n",
      "isäänsä\tobj\tkutsuin\tNOUN\t[hänen]\n",
      "Haroldiksi\tobl\tkutsuin\tPROPN\t[]\n"
     ]
    }
   ],
   "source": [
    "for token in unmatched_en:\n",
    "    print(token.text, token.dep_, token.head.text, token.pos_,\n",
    "            [child for child in token.children], sep=\"\\t\")\n",
    "    \n",
    "print()\n",
    "\n",
    "for token in unmatched_nl:\n",
    "    print(token.text, token.dep_, token.head.text, token.pos_,\n",
    "            [child for child in token.children], sep=\"\\t\")"
   ]
  },
  {
   "cell_type": "code",
   "execution_count": 215,
   "metadata": {},
   "outputs": [
    {
     "name": "stdout",
     "output_type": "stream",
     "text": [
      "me obj\n",
      "I nsubj\n",
      "to aux\n",
      "call xcomp\n",
      "her poss\n",
      "father obj\n",
      "Harold oprd\n",
      "minulta obl\n",
      ", punct\n",
      "hänen poss\n",
      "isäänsä obj\n",
      "Haroldiksi obl\n"
     ]
    }
   ],
   "source": [
    "for token in [*unmatched_en, *unmatched_nl]:\n",
    "    # Ignore/match across direct/indirect objects\n",
    "    if token.dep_ == \"iobj\" or token.dep_ == \"dobj\":\n",
    "        token.dep_ = \"obj\"\n",
    "\n",
    "    # Ignore/match across modifiers\n",
    "    token.dep_ = token.dep_.split(\":\")[-1]\n",
    "\n",
    "    print(token.text, token.dep_)"
   ]
  },
  {
   "cell_type": "code",
   "execution_count": 216,
   "metadata": {},
   "outputs": [
    {
     "name": "stdout",
     "output_type": "stream",
     "text": [
      "Match: me isäänsä for dep obj\n",
      "Match: her hänen for dep poss\n",
      "Match: father isäänsä for dep obj\n"
     ]
    }
   ],
   "source": [
    "# Match remaining tokens\n",
    "for token_en in unmatched_en:\n",
    "    for token_nl in unmatched_nl:\n",
    "        if token_en.dep_ == token_nl.dep_:\n",
    "            print(\"Match:\", token_en.text, token_nl.text, \"for dep\", token_en.dep_)\n",
    "            matches.append((token_en.text, token_nl.text))"
   ]
  },
  {
   "cell_type": "code",
   "execution_count": 217,
   "metadata": {},
   "outputs": [
    {
     "data": {
      "text/plain": [
       "[('asks', 'kysyy'),\n",
       " ('sometimes', 'joskus'),\n",
       " ('she', 'hän'),\n",
       " ('used', 'kutsuin'),\n",
       " ('why', 'miksi'),\n",
       " ('me', 'isäänsä'),\n",
       " ('her', 'hänen'),\n",
       " ('father', 'isäänsä')]"
      ]
     },
     "execution_count": 217,
     "metadata": {},
     "output_type": "execute_result"
    }
   ],
   "source": [
    "matches"
   ]
  },
  {
   "cell_type": "code",
   "execution_count": null,
   "metadata": {},
   "outputs": [],
   "source": []
  }
 ],
 "metadata": {
  "kernelspec": {
   "display_name": "NLP",
   "language": "python",
   "name": "python3"
  },
  "language_info": {
   "codemirror_mode": {
    "name": "ipython",
    "version": 3
   },
   "file_extension": ".py",
   "mimetype": "text/x-python",
   "name": "python",
   "nbconvert_exporter": "python",
   "pygments_lexer": "ipython3",
   "version": "3.10.11"
  },
  "orig_nbformat": 4
 },
 "nbformat": 4,
 "nbformat_minor": 2
}
