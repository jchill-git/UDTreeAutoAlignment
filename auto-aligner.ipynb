{
 "cells": [
  {
   "cell_type": "code",
   "execution_count": 2,
   "metadata": {},
   "outputs": [],
   "source": [
    "import spacy\n",
    "import stanza\n",
    "\n",
    "import pandas as pd\n",
    "import numpy as np\n",
    "import re\n",
    "import string"
   ]
  },
  {
   "attachments": {},
   "cell_type": "markdown",
   "metadata": {},
   "source": [
    "## Setting up the pipeline"
   ]
  },
  {
   "cell_type": "code",
   "execution_count": 3,
   "metadata": {},
   "outputs": [
    {
     "ename": "AttributeError",
     "evalue": "module 'spacy' has no attribute 'load'",
     "output_type": "error",
     "traceback": [
      "\u001b[0;31m---------------------------------------------------------------------------\u001b[0m",
      "\u001b[0;31mAttributeError\u001b[0m                            Traceback (most recent call last)",
      "Cell \u001b[0;32mIn[3], line 18\u001b[0m\n\u001b[1;32m     16\u001b[0m     nlp2 \u001b[39m=\u001b[39m stanza\u001b[39m.\u001b[39mPipeline(lang\u001b[39m=\u001b[39mLANG_2, processors\u001b[39m=\u001b[39m\u001b[39m'\u001b[39m\u001b[39mtokenize,mwt,pos,lemma\u001b[39m\u001b[39m'\u001b[39m)\n\u001b[1;32m     17\u001b[0m \u001b[39melse\u001b[39;00m:\n\u001b[0;32m---> 18\u001b[0m     nlp1 \u001b[39m=\u001b[39m spacy\u001b[39m.\u001b[39;49mload(MODELS[LANG_1])\n\u001b[1;32m     19\u001b[0m     nlp2 \u001b[39m=\u001b[39m spacy\u001b[39m.\u001b[39mload(MODELS[LANG_2])\n",
      "\u001b[0;31mAttributeError\u001b[0m: module 'spacy' has no attribute 'load'"
     ]
    }
   ],
   "source": [
    "LANG_1 = 'en'\n",
    "LANG_2 = 'fr'\n",
    "\n",
    "MODELS = {\n",
    "    'en': 'en_core_web_sm',\n",
    "    'fr': 'fr_core_news_sm',\n",
    "    'nl': 'nl_core_news_sm',\n",
    "    'fi': 'fi_core_news_sm'\n",
    "}\n",
    "\n",
    "PIPELINE = 'spacy' # 'spacy' or 'stanza'\n",
    "\n",
    "# Load the language models\n",
    "if PIPELINE == 'stanza':\n",
    "    nlp1 = stanza.Pipeline(lang=LANG_1, processors='tokenize,mwt,pos,lemma')\n",
    "    nlp2 = stanza.Pipeline(lang=LANG_2, processors='tokenize,mwt,pos,lemma')\n",
    "else:\n",
    "    nlp1 = spacy.load(MODELS[LANG_1])\n",
    "    nlp2 = spacy.load(MODELS[LANG_2])"
   ]
  },
  {
   "attachments": {},
   "cell_type": "markdown",
   "metadata": {},
   "source": [
    "## Loading the documents"
   ]
  },
  {
   "cell_type": "code",
   "execution_count": null,
   "metadata": {},
   "outputs": [],
   "source": [
    "with open(f'{LANG_1}.txt',encoding=\"utf8\") as f:\n",
    "    doc1_raw = f.readlines()"
   ]
  },
  {
   "cell_type": "code",
   "execution_count": null,
   "metadata": {},
   "outputs": [],
   "source": [
    "# Clean the text\n",
    "\n",
    "doc1_clean = list()\n",
    "pattern = re.compile('<[^>]*>')\n",
    "for line in range(0,len(doc1_raw)):\n",
    "    text = doc1_raw[line]      \n",
    "    if not (pattern.match(text)):\n",
    "        if len(text)>1:\n",
    "            doc1_clean.append(text.strip())"
   ]
  },
  {
   "cell_type": "code",
   "execution_count": null,
   "metadata": {},
   "outputs": [],
   "source": [
    "with open(f'{LANG_2}.txt',encoding=\"utf8\") as f:\n",
    "    doc2_raw = f.readlines()"
   ]
  },
  {
   "cell_type": "code",
   "execution_count": null,
   "metadata": {},
   "outputs": [],
   "source": [
    "# Clean the text\n",
    "\n",
    "doc2_clean = list()\n",
    "pattern = re.compile('<[^>]*>')\n",
    "for line in range(0,len(doc2_raw)):\n",
    "    text = doc2_raw[line]      \n",
    "    if not (pattern.match(text)):\n",
    "        if len(text)>1:\n",
    "            doc2_clean.append(text.strip())"
   ]
  },
  {
   "cell_type": "code",
   "execution_count": null,
   "metadata": {},
   "outputs": [],
   "source": [
    "docs = {\n",
    "    LANG_1: doc1_clean,\n",
    "    LANG_2: doc2_clean\n",
    "}"
   ]
  },
  {
   "attachments": {},
   "cell_type": "markdown",
   "metadata": {},
   "source": [
    "## Loading the data into the pipeline"
   ]
  },
  {
   "cell_type": "code",
   "execution_count": null,
   "metadata": {},
   "outputs": [
    {
     "ename": "TypeError",
     "evalue": "Document.__init__() got an unexpected keyword argument 'lang'",
     "output_type": "error",
     "traceback": [
      "\u001b[0;31m---------------------------------------------------------------------------\u001b[0m",
      "\u001b[0;31mTypeError\u001b[0m                                 Traceback (most recent call last)",
      "Cell \u001b[0;32mIn[42], line 3\u001b[0m\n\u001b[1;32m      1\u001b[0m \u001b[39m# Load the data\u001b[39;00m\n\u001b[1;32m      2\u001b[0m \u001b[39mif\u001b[39;00m PIPELINE \u001b[39m==\u001b[39m \u001b[39m'\u001b[39m\u001b[39mstanza\u001b[39m\u001b[39m'\u001b[39m:\n\u001b[0;32m----> 3\u001b[0m     doc1 \u001b[39m=\u001b[39m [ stanza\u001b[39m.\u001b[39mDocument(text\u001b[39m=\u001b[39mdoc, lang\u001b[39m=\u001b[39mLANG_1) \u001b[39mfor\u001b[39;00m doc \u001b[39min\u001b[39;00m docs[LANG_1] ]\n\u001b[1;32m      4\u001b[0m     doc2 \u001b[39m=\u001b[39m [ stanza\u001b[39m.\u001b[39mDocument(text\u001b[39m=\u001b[39mdoc, lang\u001b[39m=\u001b[39mLANG_2) \u001b[39mfor\u001b[39;00m doc \u001b[39min\u001b[39;00m docs[LANG_2] ]\n\u001b[1;32m      5\u001b[0m \u001b[39melse\u001b[39;00m:\n",
      "Cell \u001b[0;32mIn[42], line 3\u001b[0m, in \u001b[0;36m<listcomp>\u001b[0;34m(.0)\u001b[0m\n\u001b[1;32m      1\u001b[0m \u001b[39m# Load the data\u001b[39;00m\n\u001b[1;32m      2\u001b[0m \u001b[39mif\u001b[39;00m PIPELINE \u001b[39m==\u001b[39m \u001b[39m'\u001b[39m\u001b[39mstanza\u001b[39m\u001b[39m'\u001b[39m:\n\u001b[0;32m----> 3\u001b[0m     doc1 \u001b[39m=\u001b[39m [ stanza\u001b[39m.\u001b[39;49mDocument(text\u001b[39m=\u001b[39;49mdoc, lang\u001b[39m=\u001b[39;49mLANG_1) \u001b[39mfor\u001b[39;00m doc \u001b[39min\u001b[39;00m docs[LANG_1] ]\n\u001b[1;32m      4\u001b[0m     doc2 \u001b[39m=\u001b[39m [ stanza\u001b[39m.\u001b[39mDocument(text\u001b[39m=\u001b[39mdoc, lang\u001b[39m=\u001b[39mLANG_2) \u001b[39mfor\u001b[39;00m doc \u001b[39min\u001b[39;00m docs[LANG_2] ]\n\u001b[1;32m      5\u001b[0m \u001b[39melse\u001b[39;00m:\n",
      "\u001b[0;31mTypeError\u001b[0m: Document.__init__() got an unexpected keyword argument 'lang'"
     ]
    }
   ],
   "source": [
    "# Load the data\n",
    "if PIPELINE == 'stanza':\n",
    "    doc1 = [ stanza.Document(text=doc, lang=LANG_1) for doc in docs[LANG_1] ]\n",
    "    doc2 = [ stanza.Document(text=doc, lang=LANG_2) for doc in docs[LANG_2] ]\n",
    "else:\n",
    "    doc1 = [ doc for doc in docs[LANG_1] ]\n",
    "    doc2 = [ doc for doc in docs[LANG_2] ]"
   ]
  },
  {
   "cell_type": "code",
   "execution_count": null,
   "metadata": {},
   "outputs": [],
   "source": [
    "# Process the data\n",
    "if PIPELINE == 'stanza':\n",
    "    doc1_processed = [ nlp1(doc) for doc in doc1 ]\n",
    "    doc2_processed = [ nlp2(doc) for doc in doc2 ]\n",
    "else:\n",
    "    doc1_processed = [ nlp1(doc) for doc in doc1 ]\n",
    "    doc2_processed = [ nlp2(doc) for doc in doc2 ]"
   ]
  },
  {
   "attachments": {},
   "cell_type": "markdown",
   "metadata": {},
   "source": [
    "## Restructuring data into a tree"
   ]
  },
  {
   "cell_type": "code",
   "execution_count": null,
   "metadata": {},
   "outputs": [],
   "source": [
    "doc1_tree = dict()\n",
    "\n",
    "if PIPELINE == 'stanza':\n",
    "    for line in doc1_processed:\n",
    "        for sentence in line.sentences:\n",
    "            for token in sentence:\n",
    "                if token.pos != 'PUNCT':\n",
    "                    doc1_tree[token.id] = (\n",
    "                        token.xpos, \n",
    "                        [child.id if child.head == token.id else None for child in doc1_processed]\n",
    "                    )"
   ]
  },
  {
   "cell_type": "code",
   "execution_count": null,
   "metadata": {},
   "outputs": [],
   "source": [
    "doc2_tree = dict()\n",
    "\n",
    "if PIPELINE == 'stanza':\n",
    "    for sentence in doc2_processed:\n",
    "        for token in sentence:\n",
    "            if token.pos != 'PUNCT':\n",
    "                doc2_tree[token.id] = (\n",
    "                    token.xpos, \n",
    "                    [child.id if child.head == token.id else None for child in doc2_processed]\n",
    "                )"
   ]
  },
  {
   "cell_type": "code",
   "execution_count": null,
   "metadata": {},
   "outputs": [
    {
     "name": "stdout",
     "output_type": "stream",
     "text": [
      "[]\n"
     ]
    }
   ],
   "source": [
    "print(doc1_processed)"
   ]
  },
  {
   "cell_type": "code",
   "execution_count": null,
   "metadata": {},
   "outputs": [],
   "source": []
  }
 ],
 "metadata": {
  "kernelspec": {
   "display_name": "NLP",
   "language": "python",
   "name": "python3"
  },
  "language_info": {
   "codemirror_mode": {
    "name": "ipython",
    "version": 3
   },
   "file_extension": ".py",
   "mimetype": "text/x-python",
   "name": "python",
   "nbconvert_exporter": "python",
   "pygments_lexer": "ipython3",
   "version": "3.10.11"
  },
  "orig_nbformat": 4
 },
 "nbformat": 4,
 "nbformat_minor": 2
}
