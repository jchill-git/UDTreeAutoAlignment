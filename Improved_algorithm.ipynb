{
 "cells": [
  {
   "cell_type": "code",
   "execution_count": 1,
   "id": "d06184ba",
   "metadata": {},
   "outputs": [
    {
     "name": "stderr",
     "output_type": "stream",
     "text": [
      "C:\\Users\\josep\\Anaconda3\\envs\\NLP\\lib\\site-packages\\tqdm\\auto.py:21: TqdmWarning: IProgress not found. Please update jupyter and ipywidgets. See https://ipywidgets.readthedocs.io/en/stable/user_install.html\n",
      "  from .autonotebook import tqdm as notebook_tqdm\n"
     ]
    }
   ],
   "source": [
    "import spacy\n",
    "import pandas as pd\n",
    "import numpy as np\n",
    "import re\n",
    "import string\n",
    "import argostranslate.package\n",
    "import argostranslate.translate"
   ]
  },
  {
   "cell_type": "code",
   "execution_count": 2,
   "id": "88cd23c8",
   "metadata": {},
   "outputs": [],
   "source": [
    "nlp_en = spacy.load(\"en_core_web_sm\")\n",
    "nlp_nl = spacy.load(\"nl_core_news_sm\")\n",
    "nlp_fr = spacy.load(\"fr_core_news_sm\")"
   ]
  },
  {
   "cell_type": "code",
   "execution_count": 3,
   "id": "58388343",
   "metadata": {},
   "outputs": [],
   "source": [
    "sent_nl = \"soms vraagt ze waarom ik haar vader Harold noemde\"\n",
    "sent_en = \"sometimes she asks me why I used to call her father Harold\"\n",
    "sent_fr = \"parfois elle me demande pourquoi j'appelais son père Harold\""
   ]
  },
  {
   "cell_type": "code",
   "execution_count": 4,
   "id": "ec5f2c8c",
   "metadata": {},
   "outputs": [],
   "source": [
    "doc_en = nlp_en(sent_en)\n",
    "doc_nl = nlp_nl(sent_nl)\n",
    "doc_fr = nlp_fr(sent_fr)"
   ]
  },
  {
   "cell_type": "code",
   "execution_count": 41,
   "id": "5708de6f",
   "metadata": {},
   "outputs": [],
   "source": [
    "def buildTree(doc):\n",
    "    ud_tree = dict()\n",
    "    for token in doc:\n",
    "        ud_tree[token.text] = [token.dep_, token.pos_,[child for child in token.children]]\n",
    "    return ud_tree"
   ]
  },
  {
   "cell_type": "code",
   "execution_count": 6,
   "id": "44c52dc9",
   "metadata": {},
   "outputs": [],
   "source": [
    "def getRoots(tree_1, tree_2):\n",
    "    root_1=[key for key in tree_1.keys() if tree_1[key][0] == \"ROOT\"][0]\n",
    "    root_2=[key for key in tree_2.keys() if tree_2[key][0] == \"ROOT\"][0]\n",
    "    \n",
    "    return(root_1, root_2)"
   ]
  },
  {
   "cell_type": "code",
   "execution_count": 50,
   "id": "50581890",
   "metadata": {},
   "outputs": [],
   "source": [
    "def getChildren(node, tree):\n",
    "    dep_1, pos_1, children = tree[node]\n",
    "    return children"
   ]
  },
  {
   "cell_type": "code",
   "execution_count": 12,
   "id": "a93f3848",
   "metadata": {},
   "outputs": [],
   "source": [
    "def listDescendents(root, tree):\n",
    "    descendents = []\n",
    "    if root is None:\n",
    "        return\n",
    "\n",
    "    queue = []\n",
    "    queue.append(root)\n",
    "    \n",
    "    while len(queue) > 0:\n",
    "        node = queue.pop(0)\n",
    "        descendents.append(str(node)) \n",
    "        \n",
    "        if len(getChildren(str(node), tree))!=0:\n",
    "            for child in getChildren(str(node), tree):\n",
    "                queue.append(child)\n",
    "                \n",
    "    descendents.remove(root)\n",
    "    return descendents"
   ]
  },
  {
   "cell_type": "code",
   "execution_count": 81,
   "id": "bb40194f",
   "metadata": {},
   "outputs": [],
   "source": [
    "def compute_matches(root_1, root_2, tree_1, tree_2, matched):\n",
    "    matches = list()\n",
    "    \n",
    "    #print(matched)\n",
    "    \n",
    "    dep_1, pos_1, children_1 = tree_1[root_1]\n",
    "    dep_2, pos_2, children_2 = tree_2[root_2]\n",
    "    \n",
    "\n",
    "    \n",
    "    #print(tree_1,tree_2)\n",
    "    \n",
    "    #if root one is the root of a subtree\n",
    "    if len(children_1) != 0:\n",
    "        #if subtree matched to leaf\n",
    "        if len(children_2) == 0:\n",
    "            #print(\"tree to leaf!\")\n",
    "            matches.append((root_1, root_2))\n",
    "            matched.append(root_2)\n",
    "            #print(\"root to root\")\n",
    "            print(\"MATCH\",root_1,root_2)\n",
    "            for node in listDescendents(root_1, tree_1):\n",
    "                matches.append((node, root_2))\n",
    "                matched.append(root_2)\n",
    "                print(\"MATCH\",node, root_2)\n",
    "            return\n",
    "        #if subtree matched to subtree\n",
    "        else:\n",
    "            unmatched_children = []\n",
    "            #print(\"tree to tree\")\n",
    "            if pos_1 == pos_2:\n",
    "                matches.append((root_1, root_2))\n",
    "                matched.append(root_2)\n",
    "                #print(\"root to root\")\n",
    "                print(\"MATCH\",root_1,root_2)\n",
    "                #print(tree_1,tree_2)\n",
    "            matched_children = list()\n",
    "            new_tree_1 = {key: value[:] for key, value in tree_1.items()}\n",
    "            new_tree_2 = {key: value[:] for key, value in tree_2.items()}\n",
    "            for node_i in children_1:\n",
    "                matched_status=False\n",
    "                for node_j in children_2:\n",
    "                    #print(\"PROPOSAL\",node_i,node_j)\n",
    "                    #if node_j in tree_2:\n",
    "                    dep_i, pos_i, children_i = tree_1[str(node_i)]\n",
    "                    dep_j, pos_j, children_j = tree_2[str(node_j)]\n",
    "\n",
    "                    if dep_i == dep_j:\n",
    "                        #print(\"MATCH FLAG\")\n",
    "                        matched_status=True\n",
    "                        compute_matches(str(node_i),str(node_j),tree_1,tree_2,matched)\n",
    "                        #del new_tree_1[str(node_i)]\n",
    "                        #del new_tree_2[str(node_j)]\n",
    "        \n",
    "                #if no matches promote to root and align with trimmed tree\n",
    "                if matched_status==False:\n",
    "                    unmatched_children.append(node_i)\n",
    "            for node_i in unmatched_children:\n",
    "                #print(\"unmatched\",unmatched_children)\n",
    "                #print(\"Using trimmed tree\")\n",
    "                compute_matches(str(node_i),root_2,new_tree_1,new_tree_2,matched)\n",
    "    #if current source root is a leaf\n",
    "    else:\n",
    "        #if leaf matched to subtree\n",
    "        if len(children_2) != 0:\n",
    "            #print(\"leaf to tree\")\n",
    "            match_flag=False\n",
    "            for node_i in listDescendents(root_2, tree_2):\n",
    "                dep_i, pos_i, children_i = tree_2[str(node_i)]\n",
    "                #print(\"PROPOSAL\",root_1,pos_1,node_i,pos_i)\n",
    "                if node_i not in matched and pos_1==pos_i:\n",
    "                    match_flag=True\n",
    "                    matches.append((root_1,node_i))\n",
    "                    matched.append(node_i)\n",
    "                    print(\"MATCH\",root_1,node_i)\n",
    "            #if no matches with descendents match to root\n",
    "            if match_flag==False:\n",
    "                matches.append((root_1, root_2))\n",
    "                matched.append(root_2)\n",
    "                #print(\"root to root\")\n",
    "                print(\"MATCH\",root_1,root_2)\n",
    "            return\n",
    "        \n",
    "        #if leaf matched to leaf\n",
    "        else:\n",
    "            #print(\"leaf to leaf\")\n",
    "            matches.append((root_1, root_2))\n",
    "            matched.append(root_2)\n",
    "            #print(\"root to root\")\n",
    "            print(\"MATCH\",root_1,root_2)\n",
    "            return\n",
    "    "
   ]
  },
  {
   "cell_type": "code",
   "execution_count": 47,
   "id": "5f995c2a",
   "metadata": {},
   "outputs": [
    {
     "data": {
      "text/plain": [
       "('asks', 'vraagt')"
      ]
     },
     "execution_count": 47,
     "metadata": {},
     "output_type": "execute_result"
    }
   ],
   "source": [
    "tree_en=buildTree(doc_en)\n",
    "tree_nl=buildTree(doc_nl)\n",
    "getRoots(tree_en,tree_nl)"
   ]
  },
  {
   "cell_type": "code",
   "execution_count": 82,
   "id": "508ef7d4",
   "metadata": {},
   "outputs": [
    {
     "name": "stdout",
     "output_type": "stream",
     "text": [
      "MATCH asks vraagt\n",
      "MATCH sometimes soms\n",
      "MATCH she ze\n",
      "MATCH used noemde\n",
      "MATCH why waarom\n",
      "MATCH I ik\n",
      "MATCH call noemde\n",
      "MATCH to noemde\n",
      "MATCH her haar\n",
      "MATCH Harold Harold\n",
      "MATCH me vraagt\n"
     ]
    }
   ],
   "source": [
    "matched=list()\n",
    "compute_matches('asks', 'vraagt', tree_en, tree_nl, matched)"
   ]
  }
 ],
 "metadata": {
  "kernelspec": {
   "display_name": "Python 3 (ipykernel)",
   "language": "python",
   "name": "python3"
  },
  "language_info": {
   "codemirror_mode": {
    "name": "ipython",
    "version": 3
   },
   "file_extension": ".py",
   "mimetype": "text/x-python",
   "name": "python",
   "nbconvert_exporter": "python",
   "pygments_lexer": "ipython3",
   "version": "3.7.16"
  }
 },
 "nbformat": 4,
 "nbformat_minor": 5
}
