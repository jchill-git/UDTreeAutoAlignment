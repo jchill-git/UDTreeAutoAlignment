{
 "cells": [
  {
   "cell_type": "code",
   "execution_count": 3,
   "metadata": {},
   "outputs": [
    {
     "ename": "ImportError",
     "evalue": "blis.cy does not export expected C function sgemm",
     "output_type": "error",
     "traceback": [
      "\u001b[0;31m---------------------------------------------------------------------------\u001b[0m",
      "\u001b[0;31mImportError\u001b[0m                               Traceback (most recent call last)",
      "Cell \u001b[0;32mIn[3], line 2\u001b[0m\n\u001b[1;32m      1\u001b[0m \u001b[39mimport\u001b[39;00m \u001b[39mspacy\u001b[39;00m\n\u001b[0;32m----> 2\u001b[0m \u001b[39mimport\u001b[39;00m \u001b[39mspacy_transformers\u001b[39;00m\n\u001b[1;32m      3\u001b[0m \u001b[39mfrom\u001b[39;00m \u001b[39mtransformers\u001b[39;00m \u001b[39mimport\u001b[39;00m pipeline\n\u001b[1;32m      4\u001b[0m \u001b[39mimport\u001b[39;00m \u001b[39mspacy_wrap\u001b[39;00m\n",
      "File \u001b[0;32m~/.conda/NLP/lib/python3.10/site-packages/spacy_transformers/__init__.py:1\u001b[0m\n\u001b[0;32m----> 1\u001b[0m \u001b[39mfrom\u001b[39;00m \u001b[39m.\u001b[39;00m \u001b[39mimport\u001b[39;00m architectures\n\u001b[1;32m      2\u001b[0m \u001b[39mfrom\u001b[39;00m \u001b[39m.\u001b[39;00m \u001b[39mimport\u001b[39;00m annotation_setters\n\u001b[1;32m      3\u001b[0m \u001b[39mfrom\u001b[39;00m \u001b[39m.\u001b[39;00m \u001b[39mimport\u001b[39;00m span_getters\n",
      "File \u001b[0;32m~/.conda/NLP/lib/python3.10/site-packages/spacy_transformers/architectures.py:2\u001b[0m\n\u001b[1;32m      1\u001b[0m \u001b[39mfrom\u001b[39;00m \u001b[39mtyping\u001b[39;00m \u001b[39mimport\u001b[39;00m List, Callable\n\u001b[0;32m----> 2\u001b[0m \u001b[39mfrom\u001b[39;00m \u001b[39mthinc\u001b[39;00m\u001b[39m.\u001b[39;00m\u001b[39mapi\u001b[39;00m \u001b[39mimport\u001b[39;00m Model, chain\n\u001b[1;32m      3\u001b[0m \u001b[39mfrom\u001b[39;00m \u001b[39mthinc\u001b[39;00m\u001b[39m.\u001b[39;00m\u001b[39mtypes\u001b[39;00m \u001b[39mimport\u001b[39;00m Ragged, Floats2d\n\u001b[1;32m      4\u001b[0m \u001b[39mfrom\u001b[39;00m \u001b[39mspacy\u001b[39;00m\u001b[39m.\u001b[39;00m\u001b[39mtokens\u001b[39;00m \u001b[39mimport\u001b[39;00m Doc\n",
      "File \u001b[0;32m~/.conda/NLP/lib/python3.10/site-packages/thinc/api.py:2\u001b[0m\n\u001b[1;32m      1\u001b[0m \u001b[39mfrom\u001b[39;00m \u001b[39m.\u001b[39;00m\u001b[39mconfig\u001b[39;00m \u001b[39mimport\u001b[39;00m Config, registry, ConfigValidationError\n\u001b[0;32m----> 2\u001b[0m \u001b[39mfrom\u001b[39;00m \u001b[39m.\u001b[39;00m\u001b[39minitializers\u001b[39;00m \u001b[39mimport\u001b[39;00m normal_init, uniform_init, glorot_uniform_init, zero_init\n\u001b[1;32m      3\u001b[0m \u001b[39mfrom\u001b[39;00m \u001b[39m.\u001b[39;00m\u001b[39minitializers\u001b[39;00m \u001b[39mimport\u001b[39;00m configure_normal_init\n\u001b[1;32m      4\u001b[0m \u001b[39mfrom\u001b[39;00m \u001b[39m.\u001b[39;00m\u001b[39mloss\u001b[39;00m \u001b[39mimport\u001b[39;00m CategoricalCrossentropy, L2Distance, CosineDistance\n",
      "File \u001b[0;32m~/.conda/NLP/lib/python3.10/site-packages/thinc/initializers.py:4\u001b[0m\n\u001b[1;32m      1\u001b[0m \u001b[39mfrom\u001b[39;00m \u001b[39mtyping\u001b[39;00m \u001b[39mimport\u001b[39;00m Callable, cast\n\u001b[1;32m      2\u001b[0m \u001b[39mimport\u001b[39;00m \u001b[39mnumpy\u001b[39;00m\n\u001b[0;32m----> 4\u001b[0m \u001b[39mfrom\u001b[39;00m \u001b[39m.\u001b[39;00m\u001b[39mbackends\u001b[39;00m \u001b[39mimport\u001b[39;00m Ops\n\u001b[1;32m      5\u001b[0m \u001b[39mfrom\u001b[39;00m \u001b[39m.\u001b[39;00m\u001b[39mconfig\u001b[39;00m \u001b[39mimport\u001b[39;00m registry\n\u001b[1;32m      6\u001b[0m \u001b[39mfrom\u001b[39;00m \u001b[39m.\u001b[39;00m\u001b[39mtypes\u001b[39;00m \u001b[39mimport\u001b[39;00m FloatsXd, Shape\n",
      "File \u001b[0;32m~/.conda/NLP/lib/python3.10/site-packages/thinc/backends/__init__.py:7\u001b[0m\n\u001b[1;32m      4\u001b[0m \u001b[39mfrom\u001b[39;00m \u001b[39mcontextvars\u001b[39;00m \u001b[39mimport\u001b[39;00m ContextVar\n\u001b[1;32m      5\u001b[0m \u001b[39mimport\u001b[39;00m \u001b[39mthreading\u001b[39;00m\n\u001b[0;32m----> 7\u001b[0m \u001b[39mfrom\u001b[39;00m \u001b[39m.\u001b[39;00m\u001b[39mops\u001b[39;00m \u001b[39mimport\u001b[39;00m Ops\n\u001b[1;32m      8\u001b[0m \u001b[39mfrom\u001b[39;00m \u001b[39m.\u001b[39;00m\u001b[39mcupy_ops\u001b[39;00m \u001b[39mimport\u001b[39;00m CupyOps\n\u001b[1;32m      9\u001b[0m \u001b[39mfrom\u001b[39;00m \u001b[39m.\u001b[39;00m\u001b[39mnumpy_ops\u001b[39;00m \u001b[39mimport\u001b[39;00m NumpyOps\n",
      "File \u001b[0;32m~/.conda/NLP/lib/python3.10/site-packages/thinc/backends/ops.py:16\u001b[0m\n\u001b[1;32m     13\u001b[0m \u001b[39mfrom\u001b[39;00m \u001b[39m.\u001b[39;00m\u001b[39m.\u001b[39;00m\u001b[39mtypes\u001b[39;00m \u001b[39mimport\u001b[39;00m DeviceTypes, Generator, Padded, Batchable, SizedGenerator\n\u001b[1;32m     14\u001b[0m \u001b[39mfrom\u001b[39;00m \u001b[39m.\u001b[39;00m\u001b[39m.\u001b[39;00m\u001b[39mutil\u001b[39;00m \u001b[39mimport\u001b[39;00m get_array_module, is_xp_array, to_numpy\n\u001b[0;32m---> 16\u001b[0m \u001b[39mfrom\u001b[39;00m \u001b[39m.\u001b[39;00m\u001b[39mcblas\u001b[39;00m \u001b[39mimport\u001b[39;00m CBlas\n\u001b[1;32m     18\u001b[0m ArrayT \u001b[39m=\u001b[39m TypeVar(\u001b[39m\"\u001b[39m\u001b[39mArrayT\u001b[39m\u001b[39m\"\u001b[39m, bound\u001b[39m=\u001b[39mArrayXd)\n\u001b[1;32m     19\u001b[0m FloatsT \u001b[39m=\u001b[39m TypeVar(\u001b[39m\"\u001b[39m\u001b[39mFloatsT\u001b[39m\u001b[39m\"\u001b[39m, bound\u001b[39m=\u001b[39m_Floats)\n",
      "File \u001b[0;32m~/.conda/NLP/lib/python3.10/site-packages/thinc/backends/cblas.pyx:1\u001b[0m, in \u001b[0;36minit thinc.backends.cblas\u001b[0;34m()\u001b[0m\n",
      "\u001b[0;31mImportError\u001b[0m: blis.cy does not export expected C function sgemm"
     ]
    }
   ],
   "source": [
    "import spacy\n",
    "import spacy_transformers\n",
    "from transformers import pipeline\n",
    "import spacy_wrap\n",
    "import pandas as pd\n",
    "import numpy as np\n",
    "import re\n",
    "import string"
   ]
  },
  {
   "cell_type": "code",
   "execution_count": null,
   "metadata": {},
   "outputs": [
    {
     "data": {
      "application/vnd.jupyter.widget-view+json": {
       "model_id": "8c7a9b48411d4a0c9ec0541860ab785f",
       "version_major": 2,
       "version_minor": 0
      },
      "text/plain": [
       "Downloading (…)lve/main/config.json:   0%|          | 0.00/1.92k [00:00<?, ?B/s]"
      ]
     },
     "metadata": {},
     "output_type": "display_data"
    },
    {
     "data": {
      "application/vnd.jupyter.widget-view+json": {
       "model_id": "32009cf1692f482fb133147c00ee98bb",
       "version_major": 2,
       "version_minor": 0
      },
      "text/plain": [
       "Downloading pytorch_model.bin:   0%|          | 0.00/436M [00:00<?, ?B/s]"
      ]
     },
     "metadata": {},
     "output_type": "display_data"
    },
    {
     "data": {
      "application/vnd.jupyter.widget-view+json": {
       "model_id": "96175f5ce042472c8b0a33c5e17d78a0",
       "version_major": 2,
       "version_minor": 0
      },
      "text/plain": [
       "Downloading (…)okenizer_config.json:   0%|          | 0.00/86.0 [00:00<?, ?B/s]"
      ]
     },
     "metadata": {},
     "output_type": "display_data"
    },
    {
     "data": {
      "application/vnd.jupyter.widget-view+json": {
       "model_id": "ba17f0feea354db0959ce55e68a81805",
       "version_major": 2,
       "version_minor": 0
      },
      "text/plain": [
       "Downloading (…)solve/main/vocab.txt:   0%|          | 0.00/305k [00:00<?, ?B/s]"
      ]
     },
     "metadata": {},
     "output_type": "display_data"
    },
    {
     "data": {
      "application/vnd.jupyter.widget-view+json": {
       "model_id": "adbb4677ba1542968ac9f02bb4a6573f",
       "version_major": 2,
       "version_minor": 0
      },
      "text/plain": [
       "Downloading (…)cial_tokens_map.json:   0%|          | 0.00/112 [00:00<?, ?B/s]"
      ]
     },
     "metadata": {},
     "output_type": "display_data"
    },
    {
     "name": "stderr",
     "output_type": "stream",
     "text": [
      "Asking to truncate to max_length but no maximum length is provided and the model has no predefined maximum length. Default to no truncation.\n"
     ]
    }
   ],
   "source": [
    "pos = spacy.blank(\"ar\") # empty English pipeline\n",
    "\n",
    "# create the config with the name of your model\n",
    "# values omitted will get default values\n",
    "config = {\n",
    "    \"model\": {\n",
    "        \"name\": \"CAMeL-Lab/bert-base-arabic-camelbert-mix-pos-msa\"\n",
    "    }\n",
    "}\n",
    "\n",
    "pos = pipeline(\"token-classification\", model=\"CAMeL-Lab/bert-base-arabic-camelbert-mix-pos-egy\")\n",
    "\n",
    "# pos.initialize() # XXX don't forget this step!\n",
    "doc = pos(\"بسم الله الرحمن الرحيم صلى الله على سيدنا محمد\")"
   ]
  },
  {
   "cell_type": "code",
   "execution_count": null,
   "metadata": {},
   "outputs": [
    {
     "name": "stdout",
     "output_type": "stream",
     "text": [
      "بسم 0.9980964 noun\n",
      "الله 0.99957305 noun_prop\n",
      "الرحمن 0.7509428 adj\n",
      "الرحيم 0.6844288 adj\n",
      "صلى 0.97644615 verb\n",
      "الله 0.9993748 noun_prop\n",
      "على 0.99944574 prep\n",
      "سيدنا 0.98624134 noun\n",
      "محمد 0.9980369 noun_prop\n"
     ]
    }
   ],
   "source": [
    "for entity in doc:\n",
    "    print(entity['word'], entity['score'], entity['entity'])"
   ]
  },
  {
   "cell_type": "code",
   "execution_count": null,
   "metadata": {},
   "outputs": [],
   "source": [
    "pos_map = {\n",
    "    'noun': 'NOUN',\n",
    "    'verb': 'VERB',\n",
    "    'adj': 'ADJ',\n",
    "    'adv': 'ADV',\n",
    "    'prep': 'ADP',\n",
    "    'conj': 'CONJ',\n",
    "    'pron': 'PRON',\n",
    "    'part': 'PART',\n",
    "    'num': 'NUM',\n",
    "    'intj': 'INTJ',\n",
    "    'punc': 'PUNCT',\n",
    "    'det': 'DET',\n",
    "    'propn': 'PROPN',\n",
    "    'sym': 'SYM',\n",
    "    'x': 'X',\n",
    "    'aux': 'AUX',\n",
    "    'sconj': 'SCONJ',\n",
    "    'cc': 'CCONJ',\n",
    "    'punct': 'PUNCT',\n",
    "    'root': 'ROOT'\n",
    "}"
   ]
  }
 ],
 "metadata": {
  "kernelspec": {
   "display_name": "NLP",
   "language": "python",
   "name": "python3"
  },
  "language_info": {
   "codemirror_mode": {
    "name": "ipython",
    "version": 3
   },
   "file_extension": ".py",
   "mimetype": "text/x-python",
   "name": "python",
   "nbconvert_exporter": "python",
   "pygments_lexer": "ipython3",
   "version": "3.10.11"
  },
  "orig_nbformat": 4
 },
 "nbformat": 4,
 "nbformat_minor": 2
}
