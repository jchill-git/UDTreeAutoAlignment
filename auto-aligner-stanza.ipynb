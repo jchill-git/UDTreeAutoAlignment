{
 "cells": [
  {
   "cell_type": "code",
   "execution_count": 1,
   "metadata": {},
   "outputs": [],
   "source": [
    "import stanza\n",
    "import pandas as pd\n",
    "import numpy as np\n",
    "import re\n",
    "import string"
   ]
  },
  {
   "attachments": {},
   "cell_type": "markdown",
   "metadata": {},
   "source": [
    "## Importing the files"
   ]
  },
  {
   "cell_type": "code",
   "execution_count": 2,
   "metadata": {},
   "outputs": [],
   "source": [
    "with open('Fattash_intro.txt',encoding=\"utf8\") as f:\n",
    "    raw_english=f.readlines()"
   ]
  },
  {
   "cell_type": "code",
   "execution_count": 3,
   "metadata": {},
   "outputs": [],
   "source": [
    "doc_en=list()\n",
    "pattern = re.compile('<[^>]*>')\n",
    "for line in range(0,len(raw_english)-1):\n",
    "    if line>11:\n",
    "        text=raw_english[line]      \n",
    "        if not (pattern.match(text)):\n",
    "            if len(text)>1:\n",
    "                doc_en.append(text.strip())"
   ]
  },
  {
   "cell_type": "code",
   "execution_count": 4,
   "metadata": {},
   "outputs": [
    {
     "data": {
      "text/plain": [
       "['In the name of God, the merciful. May',\n",
       " 'God shower his blessings on our Lord Muhammad,',\n",
       " 'his family and his companions, and grant them',\n",
       " 'salvation to them!',\n",
       " 'This is what the learned sheikh, the learned jurisconsult said,',\n",
       " 'the upright cadi, the austere, the scrupulous, the saintly, the learned,',\n",
       " \"the pious, the devout Sıdı Mahmoud Kati', from a family of\",\n",
       " \"Kourmina', domiciled in Timbuktu and of Udkore origin,\",\n",
       " 'God the Most High will have mercy on him and will allow us to benefit from the favor he has bestowed on him,',\n",
       " 'the favor he has bestowed upon him! So be it.',\n",
       " 'Praise be to God, the only one in sovereignty, in power',\n",
       " 'in glory, in authority, in dominion, in victory, in goodness,',\n",
       " 'in mercy, the ruler, the rewarder, the mighty, the',\n",
       " 'liberal, who created the heaven and the earth, who taught Adam the name of things',\n",
       " 'and drew from his loins the princes and the',\n",
       " 'and shepherds of the peoples, some of whom were proud and',\n",
       " 'and the others benevolent and pious. He put them to the test',\n",
       " 'with the help of the facts and events that he has made them and threatened them with',\n",
       " 'His punishment through His eminent envoys, destroying those who resisted and',\n",
       " 'gave them as an example to the wise and as a warning to',\n",
       " 'devotees. Then he transmitted the knowledge of the Prophets',\n",
       " 'and their authority to the Khalifes, so that it is through them',\n",
       " 'that the oppressed may find refuge in them, and that the rebellious may be brought down by them. In',\n",
       " 'He has made them His shadow on the earth and has given them an ornament',\n",
       " 'which is not simply that of the reflection of',\n",
       " 'light in a pool. Those who obey them are on the right path and will be',\n",
       " 'rewarded; those who turn away from them',\n",
       " 'will be led astray and disappointed.',\n",
       " 'We praise God because of the abundant favors and',\n",
       " 'blessings with which He has blessed us by making us His devoted',\n",
       " 'and in keeping away from us the wickedness of our enemies through',\n",
       " 'the invocations of the teachers, the exhortations of the wise and the',\n",
       " 'of the sultans and khalifes.',\n",
       " 'But it is to him that we must give thanks and praise,',\n",
       " 'and it is before him that we must bow down and',\n",
       " 'and prostrate ourselves, for He is the One who is the',\n",
       " 'Supreme Master. Whoever obeys him is on the right path',\n",
       " 'and clings to a support that will not fail him; whoever',\n",
       " 'rebels against him is in error and will be punished by the loss of',\n",
       " 'his reward and his illusions.',\n",
       " 'We proclaim that there is no god but God:',\n",
       " 'this testimony we give as one who resists his heart and',\n",
       " 'his passions to conform to the orders of the',\n",
       " \"the Lord's commands, and we will continue to give it, God willing, until\",\n",
       " 'God willing, the day of our meeting with him, the day when neither',\n",
       " 'fortune nor children will be of any help',\n",
       " 'and when we must come to God with a pure heart.',\n",
       " 'We also proclaim that our Lord Mohammed is',\n",
       " 'the glorious worshipper of God, his merciful messenger,',\n",
       " 'his benevolent chosen one, his loyal confidant, the one who brought',\n",
       " 'the truthful verses, performed brilliant miracles and produced',\n",
       " 'decisive arguments. God sent him to consolidate Islam, to lead men, to break idols',\n",
       " 'and to expound the rules of justice and law. It was he who said',\n",
       " 'said: \"This era began with prophecy and mercy,',\n",
       " 'it will continue with khalifat and mercy, etc. \"\\'.',\n",
       " 'It is he who said: \"A fraction of my people will not',\n",
       " 'cease to be in the truth until the day when the last hour',\n",
       " 'will come\"? And again he said: \"You must stick to my rule',\n",
       " 'the orthodox Khalifes will be torn apart after me.',\n",
       " 'after me. God shower his blessings on him and blessings on him and grant him salvation,',\n",
       " 'as well as to his pious and generous companions, who were like devouring lions,',\n",
       " 'his brothers and his descendants!',\n",
       " 'It is to the descendants of these eminent lords that',\n",
       " 'to the descendants of these eminent lords, to whom every noble sheriff is linked by a certain genealogy;',\n",
       " 'every conscientious scholar must be inspired by their works;',\n",
       " 'every pious man must model himself on each of their intimate',\n",
       " 'every virtuous and devout man should conduct himself according to their generous words; every director of knowledge',\n",
       " 'should follow the straight path they have traced; every solitary ascetic should light his lamp by the light of their faith; every man',\n",
       " 'man desiring goodness must climb to the summit of their',\n",
       " 'knowledge.',\n",
       " 'May the Lord give them, in default of us, the best of retributions',\n",
       " 'and may he grant them the highest reward on the day of the last meeting!',\n",
       " 'may he grant them the highest of rewards! May he, in his generosity',\n",
       " 'put us among those who walk in the right path',\n",
       " 'and that he reserves for us a place among the',\n",
       " 'chosen ones! May he, through their benevolent intercession, place us',\n",
       " 'among the blessed! May he answer our prayer',\n",
       " 'in consideration of the best of creatures, the most eminent of those',\n",
       " 'to whom he has given faith, the most generous of those',\n",
       " 'who have walked the earth!',\n",
       " 'The deeds of the rulers, princes, and great ones of the',\n",
       " 'earth are one of the things that philosophers and great doctors are wont to tell',\n",
       " 'philosophers and great doctors. They do so to conform to the tradition of the',\n",
       " \"of the Qur'an, to recall the events that time has\",\n",
       " 'erased, to bring to light to that which has been forgotten through neglect,',\n",
       " 'and to help the conscientious man to do good to his fellow people.',\n",
       " 'God has granted us the favor of bringing to light',\n",
       " 'the virtuous Imâm, the upright Khalifa, the victorious king',\n",
       " 'the askia? El-Hâdj Mohammed ben Aboubakar, descendant of the Tôrodo and belonging to a family of Gaoga',\n",
       " '(Gaogao), where his residence was,',\n",
       " 'This prince has made the light of faith succeed among us',\n",
       " 'to the darkness of the darkness and he brought us back to the right way',\n",
       " 'from error and iniquity. Thanks to',\n",
       " 'God, all the countries submitted to him from the east to the west,',\n",
       " 'and delegations came to him in succession',\n",
       " 'either isolated or in groups, and the princes made their submission',\n",
       " 'of will or of force. It is thus that, by',\n",
       " 'the divine protection, we have been filled with goods and favors',\n",
       " 'after having been in trouble and misfortune. God the most',\n",
       " 'in his goodness, has made this transformation and, as he said to the most',\n",
       " 'generous of his creatures, \"next to adversity is happiness\".',\n",
       " 'I wanted to gather here the most remarkable events of his reign',\n",
       " \"of the events of his reign, also mentioning the cursed Shi'i, as far as it has been possible to do so\",\n",
       " \"to do it with the help of written and oral documents' and by seeking\",\n",
       " 'my support from God the most high.',\n",
       " 'I have entitled this book Tarikh el-fetlách fi akhbar el-bouldán',\n",
       " 'oua-l-djouyouch oua-akabir en-nás. It talks about',\n",
       " 'wars and the main events that took place in the Tekroûr, as well as of the distribution to be made between the',\n",
       " 'genealogy of the tribes of servile condition and that of the tribes of',\n",
       " 'noble condition.',\n",
       " 'CHAPTER I',\n",
       " 'Main particularities of the life and reign',\n",
       " 'of the askia El Hadj Mohammed,',\n",
       " '-',\n",
       " 'Know that God has mercy on us and on you!',\n",
       " 'that the just Imâm, the eminent king, the askia El-Hådj',\n",
       " 'Mohammed, as soon as he was elevated to power, organized the Songai',\n",
       " 'and gave it institutions. This is how,',\n",
       " 'of the whole army, the dyina-koïe had the right to sit on a carpet',\n",
       " \"at the sovereign's audiences; the dyinai alone also\",\n",
       " 'had the privilege of not covering himself with dust',\n",
       " 'in his presence and could be satisfied with covering himself with flour.',\n",
       " 'Everyone had to remove their caps when covering themselves with dust, except for Rourmina-fári.',\n",
       " 'Only the Dendi-faris could afford to make frank remarks to the ruler.',\n",
       " 'Only the Bara-',\n",
       " \"koi' had a right of veto, which the prince had to take into account\",\n",
       " 'willy-nilly. Only the Dirma-koï was authorized not to',\n",
       " 'get off his horse to enter the royal palace.',\n",
       " 'Alone in the whole kingdom, the câdi was authorized to mandate',\n",
       " 'a servant of the prince to entrust him with a mission to which',\n",
       " 'the servant could not evade, and to make him do',\n",
       " 'for him what he would have done for the askia. Nobody could,',\n",
       " 'in a royal audience, question the prince by name,',\n",
       " 'except the guissiridonké\". No one, unless he was a sheriff, was',\n",
       " 'allowed to sit next to the king on his platform.',\n",
       " 'The askia also decided that, when the câdis came to him, he would',\n",
       " 'have a prayer mat spread out for them',\n",
       " 'he decided that the eunuchs of his house would stand',\n",
       " 'to his left, that he would not stand up for anyone except for',\n",
       " 'for the scholars and',\n",
       " 'the pilgrims when they returned from Mecca, that the scholars',\n",
       " 'and their children would be the only ones allowed to eat with him, but that it would be',\n",
       " 'the same for those without, even if they were very',\n",
       " 'God have mercy on this prince!',\n",
       " 'It was so at least at the beginning of his reign, because he wanted the affection of his entourage. But,',\n",
       " 'when his power was consolidated (gold) and that the business',\n",
       " 'and public affairs had taken their normal course, these privileges were no longer',\n",
       " 'were no longer maintained.',\n",
       " 'He also decided to consult the practicing ulama about',\n",
       " 'the traditions of the Messenger of God (God shower his blessings and',\n",
       " 'blessings and salvation upon him!) and to follow their',\n",
       " 'recommendations: God have mercy on him! Therefore, all the',\n",
       " 'all the scholars of his time agreed that he was a true',\n",
       " 'that he was a true Khalifa.',\n",
       " 'Among those who made this statement about him, it is worth mentioning',\n",
       " 'Sheikh Abderrahman Es-Soyoûti, Sheikh Mohammed ben Abdelûti, and',\n",
       " 'Sheikh Mohammed ben Abdelkerîm El-Meghîli, the Sheikh',\n",
       " 'Chamharoûch of the race of the geniuses and the hassanide sheriff',\n",
       " 'Moulaï El-Abbas, prince of Mecca: God have mercy on them all!',\n",
       " 'He granted rights to the Muslims and imposed on them marks of respect towards his person. He decided',\n",
       " 'that the people of Móri-koiras should marry whomever they wished and',\n",
       " 'that the children born of these unions would be of the same condition',\n",
       " 'as their fathers, a rule that is still in force today and',\n",
       " 'has not been modified, thanks to the favor with which God',\n",
       " 'God have mercy on this prince! He gave',\n",
       " \"to the sheriff Ahmed Es-Seqli' the territory surrounding the\",\n",
       " 'villages and islands.',\n",
       " 'The Hassanid sheriff Moulaï El-Abbàs was one day with the prince of the believers,',\n",
       " 'the khalife of the Moslems, the askia',\n",
       " \"El-hâdj Mohammed, sitting near the Ka'ba, and both were talking\",\n",
       " 'together: said to the askia, \"O you who are here,\" said the sheriff Moulaï El-Abbâs,',\n",
       " '\"you are the eleventh of the khalifes of whom',\n",
       " 'of whom the Envoy of God spoke (God shower his blessings on him and grant him',\n",
       " 'blessings and salvation upon him!); but you came to us as a king,',\n",
       " 'and one cannot combine the two titles',\n",
       " 'of king and khalifa. -- How then, my lord?',\n",
       " 'asked the askia. -- There is only one way, replied',\n",
       " 'Moulaï El-Abbâs, it is that you leave your current condition\".',\n",
       " 'The askia accepted this proposal and, after having removed',\n",
       " 'all his ministers, he gathered all his royal insignia and treasures,',\n",
       " 'gave everything into the hands of El-Abbâs and',\n",
       " 'thus found himself deposed by himself. Moulaï El-Abbâs',\n",
       " 'then locked himself up in the retreat during three days, then he left it',\n",
       " 'came out of it on Friday, convened the askia El-Hadj Mohammed and',\n",
       " 'and made him sit in the mosque of the noble city of Mecca.',\n",
       " 'Then he put on his head a green cap and a white turban,',\n",
       " 'gave him a sword and took the crowd of the assistants as witnesses',\n",
       " 'that he instituted him khalife for the country of Tekroûr and that',\n",
       " 'whoever disobeyed his orders in this country would disobey God',\n",
       " 'God the Most High and his Messenger.',\n",
       " 'Then the askia El-Hâdj Mohammed prepared to return',\n",
       " 'in his States. When he arrived in Cairo, he met Sheikh',\n",
       " 'Abderrahman Es-Soyoûti and asked him about the Khalifes',\n",
       " 'of whom the Messenger of God (God shower his',\n",
       " 'blessings and salvation upon him!)',\n",
       " 'to come after him.',\n",
       " 'The sheikh replied: \"There should be twelve,',\n",
       " 'five in Medina, two in Cairo, one in Syria and two in Iraq.',\n",
       " 'all of them have already reigned; there are still two to come,',\n",
       " 'who will reign in the land of Tekroûr:',\n",
       " 'you are one of these two and the other will come after you. Your family is related',\n",
       " \"to the Tôrodo', who descend from the people of Yemen, and your\",\n",
       " 'residence will be Gaogao. You will be well led, victorious',\n",
       " 'equitable, very happy, very liberal and very charitable.']"
      ]
     },
     "execution_count": 4,
     "metadata": {},
     "output_type": "execute_result"
    }
   ],
   "source": [
    "doc_en"
   ]
  },
  {
   "cell_type": "code",
   "execution_count": 5,
   "metadata": {},
   "outputs": [],
   "source": [
    "with open('Fattash_intro_Arabic.txt',encoding=\"utf8\") as f:\n",
    "    raw_arabic=f.readlines()"
   ]
  },
  {
   "cell_type": "code",
   "execution_count": 6,
   "metadata": {},
   "outputs": [],
   "source": [
    "doc_ar=list()\n",
    "pattern = re.compile('<[^>]*>')\n",
    "for line in range(0,len(raw_arabic)):\n",
    "    if line>12:\n",
    "        text=raw_arabic[line]      \n",
    "        if not (pattern.match(text)):\n",
    "            if len(text)>1:\n",
    "                doc_ar.append(text.strip())"
   ]
  },
  {
   "cell_type": "code",
   "execution_count": 7,
   "metadata": {},
   "outputs": [
    {
     "data": {
      "text/plain": [
       "['بسم الله الرحمن الرحيم صلى الله على سيدنا محمد',\n",
       " 'وآله وصحبه وسلم تسليما',\n",
       " 'قال الشيخ العالم الفقيه الاديب القاضى العادل الزاهد الورع الولى المكاشف',\n",
       " 'التقى العابد سيدى محمود كعت الكرمنى دارًا التنبكتى مسكنًا الوعكري اصلًا',\n",
       " 'رحمه الله تعالى و نفعنا به امين',\n",
       " 'الحمد لله المنفرد بالملك والملكوت والعزّة والجبروت والقهر والغلبوت',\n",
       " 'والرافة والرحموت الملك الديّان القادر المنّان الذى خلق الارض والسماء',\n",
       " 'وعلّم آدم الاسماء واخرج من صلبه الملوك والرعاء فمنهم متكبرون قاسطون',\n",
       " 'ومنهم مقتصدون صالحون فابتلاهم بظهور الانباء والاخبار واعذر اليهم على',\n",
       " 'السنّة المرسلين الاخيار فاهلك من اباهم وصيّرهم عبرة للمعتبرين وموعظة',\n",
       " 'المتقين ثمّ اورث العلماء علمهم واخلف الخلفاء على امرهم فاليهم ياوى الطريد',\n",
       " 'وبهم يقمع الخصم الملد ولذلك جعلهم ظلاله في الارض وزيّنهم لا زينة النور',\n",
       " 'في الحوض فمن اطاعهم فقد هدى وفاز ومن حاد عنهم فقد خسر وخاب',\n",
       " 'نحمده على ما اولانا من سوابغ النعم والالاء حيث جعلنا من عباده الكرماء',\n",
       " 'وازاح عنّا شرّ الاعداء بادعية العلماء ووصايا الحكماء وصوارم السلاطين',\n",
       " 'والخلفاء فوجب له علينا الشكر والثناء والسجود والانحناء اذ هو المولى الاعلى',\n",
       " 'فمن يطعه فقد هدى واستمسك بالعروة الوثقى ومن يعصه فقد غوى وباء',\n",
       " 'بالخسر وغوى ونشهد ان لا اله الا الله شهادة من افرغ قلبه وهواه لامثال',\n",
       " 'امر مولاه ونعد تلك الشهادة ان شاء الله الى يوم لقياه يوم لا ينفع مال ولا',\n",
       " 'بنون الّا من اتى الله بقلب سليم ونشهد ان سيدنا محمدًا عبده الكريم ورسوله',\n",
       " 'الرحيم وصفيه الحليم ونحبيه الامين ذو الايات الصادفات والمعجزات الباهرات',\n",
       " 'والبراهين القاطعات ارسله موطّدًا للاسلام ومسدّدًا للانام ومكسّرًا للاصنام',\n",
       " 'ومبيّنًا للشرايع والاحكام القائل بدا هذا الامر نبوة ورحمة ثم يكون خلافة',\n",
       " 'ورحمة الحديث والقائل لا تزال طائفة من امّتى على الحقّ حتّى تقوم الساعة',\n",
       " 'والقائل عليكم بسنّتى وسنّة الخلفاء الراشدين من بعده عضّوا عليها بالنواجذ',\n",
       " 'صلّى الله عليه وسلّم وعلى آله البررة الكرام وصحابته ليوث الضرغام وعلى',\n",
       " 'سائر اخوانه وذرّيّته السادات الاعلام من الى ناصع نسبهم ينتسب كل شريف',\n",
       " 'ظريف ومنهم ينتخب كلّ اديب عفيف و بصميم افعالمهم يقتدى كلّ تقى حىّ',\n",
       " 'وبكريم اقوالهم يهتدى كلّ مقتصد منيب وبقويم منهجهم يسلك كلّ مرشد',\n",
       " 'عريف والى نار هديهم بسراجه كلّ منفرد محب والى ذروة علمهم يسمو كلّ',\n",
       " 'مقصود بخير فجزاهم الربّ عنّا افضل الجزاء واثابهم يوم التنادى اجزل الثواب',\n",
       " 'وجعلنا بكرمه من المهتدين وفي زمرتهم من المنخرطين وباحسانهم من',\n",
       " 'المتبعين بجاه خير الورى وافضل من اعطى الهدى واكرم من وطى الثرى',\n",
       " 'وبعد فلمّا كان ذكر قصص الانبياء والسلاطين والملوك واكبار البلدان من عادة',\n",
       " 'الحكماء والعلماء الاعيان اتِّخاذًا بسنّة القرآن وتذكيرًا لما غير من الزمان وردًّا',\n",
       " 'الغبى عن الحيف والهوان وعونًا للتقي على مساعدة الاخوان ومنّ الله علينا',\n",
       " 'بان اظهر لنا في زماننا هذا الامام الصالح الخليفة العادل والسلطان الغالب',\n",
       " 'والمنصور القائم اسكيا الحاج محمد بن ابى بكر النوردى اصلًا الكوكوى دارًا',\n",
       " 'ومسكنًا فاثار لنا الهدى بعد ظلم الدجى واماط عنّا الهدى بعد الجبن والردى',\n",
       " 'فانفسح له بحمد الله البلدان شرقاً وغرباً وتداعت له الوفود فرداً وجمعاً',\n",
       " 'فاذعنت له الملوك كرهًا وطوعًا فصرنا من بركاته بخير ونعمى بعد ما كنّا في',\n",
       " 'ضيق وبوسا فبدل الله تعالى ذلك بفضله كما قال لاكرم خلفه ان مع العسر يسرًا',\n",
       " 'اردت ان نجمع من احواله الحلوان مع ذكر شى عال الملعون ما سهل على',\n",
       " 'اليد واللسان والى الله سبحانه التكلان وسمّيته تاريخ الفتاش في اخبار البلدان',\n",
       " 'والجيوش واكابر الناس وذكر وقائع التكرور وعظائم الامور وتفريق انساب',\n",
       " 'العبيد من الاحرار اعلم رحمنا الله وايّاك ان الامام العادل والسلطان الفاضل',\n",
       " 'اسكيا الحاج محمد لمّا تولى السلطنة اقام طريقة سُنغَىْ وجعل فيها قواعد وذلك',\n",
       " 'ان ليس له احد في جنده يفرش له في مجلسه الّا جنكى وكلّهم يحملون له',\n",
       " 'التراب الّا جنكى فانه لا يحمل الّا دقيق الطعام وكلهم يقلعون الطاقية عند',\n",
       " 'حمل التراب الّا كرمن فار وليس فيهم من يتعدّى عليه بقول الصدق الا دند',\n",
       " 'فار ولا فيهم من ينهاه عن امر ويتبعه احبّ ام كره الّا بَرَكُىْ ولا فيهم من',\n",
       " 'يدخل داره راكبًا الّا دِرْمَكُىْ ولا في ارضه من ينادى عبده ويرسله بامر',\n",
       " 'ولا يقدر ان يابى ويفعل له في الامر ما يفعل في امر اسكى الّا القاضى ولا',\n",
       " 'من يناديه باسمه في مجلسه الّا كِسِّرُدنْك ولا من يجلس معه على سريره الّا',\n",
       " 'الشرفاء وجعل للقضاة اذا جاءوه يامر لهم ببسط حصير الصلاة لهم وجعل',\n",
       " 'للمزامين ان يجلسوا عن يساره ولا يقوم لاحد الّا للعالم والحجّاج اذا قدموا',\n",
       " 'من مكّة ولا يأكل منه الّا العلماء والشرفاء واولادهم وسَنْ ولو كان صغيرًا',\n",
       " 'رحمه الله وهذا كلّه فى أوّل امره لتاليف قلوب قومه فلمّا ثبتت له السلطنة',\n",
       " 'وجعل يسال العلماء العاملين عن سنّة',\n",
       " 'رسول الله صلّى الله عليه وسلّم ويمشى على اقوالهم رحمه الله حتّى اتّفق جميع',\n",
       " 'علماء عصره على انّه خليفة وممّن صرح له بذلك الشيخ عبد الرحمن السيوطى',\n",
       " 'والشيخ محمد بن عبد الكريم المغيلى والشيخ شمهروش الخبّى والشريف',\n",
       " 'الحسنى مولاى العبّاس امير مكّة رحم الله الجميع 1 واقام المسلمين حقوقاً وحرمة',\n",
       " 'على نفسه وامر لاهل مُورِكُيْرَ ان يتزوجوا ما شاءوا فيتبعهم اولادهم وهو',\n",
       " 'موجود الى الان لم يتبدّل ببركته رحمه الله 2 واعطى الشريف احمد الصفلى',\n",
       " 'ناحية القرى والجزائر وامّا الشريف الحسنى مولاى العباس فكان مع امير',\n",
       " 'المومنين وخليفة المسلمين اسكى الحاج محمد جالسًا بحذاء الكعبة يتحادثان فقال',\n",
       " 'له الشريف مولاى العبّاس يا هذا انت الحادى عشر من الخلفاء الذين ذكر',\n",
       " 'رسول الله صلّى الله عليه وسلّم ولاكنّك جئتا ملكًا والملك والخلافة لا يتّفقان',\n",
       " 'فقال له كيف ذلك يا سيدى فقال له مولاى العبّاس لا سبيل الى ذلك الّا ان',\n",
       " 'تخرج عمّا انت فيه فاذعن له اسكى طوعًا وطرد جميع الوزراء عنه وجمع جميع',\n",
       " 'آلات السلطنة واموالها وجعل ذلك كلّه بيد العبّاس وقعد عازلًا لنفسه ودخل',\n",
       " 'مولاى العبّاس في الخلوة ثلاثة ايّام ثمّ خرج يوم الجمعة ونادى اسكى الحاج',\n",
       " 'محمد واجلسه بمسجد البلدة الشريفة مكّة وجعل على راسه قلنسوة خضراء',\n",
       " 'وعمامة بيضاء واعطاه سيفًا واشهد الجماعة الحاضرين انّه خليفة ارض التكرور',\n",
       " 'وان كلّ من خالفه في تلك الارض فقد خالف الله تعالى ورسوله ثمّ تهيّا',\n",
       " 'اسكى الحاج محمد للرجوع فلمّا وصل مصر وجد هناك الشيخ عبد الرحمن',\n",
       " 'السيوطى فساله اسكى عن الخلفاء الذين ذكر رسول الله صلّى الله عليه وسلّم',\n",
       " 'انّهم سيأتون بعده فقال الشيخ هم اثنا عشر خمسة منهم بالمدينة واثنان بمصر',\n",
       " 'وواحد بالشام واثنان بالعراق وقد مضى هولاء كلّهم وبقى اثنان بارض التكرور',\n",
       " 'انت احدهما وياتى بعدك الثانى قبيلتك منسوبة بطورد من اهل اليمن ومسكنك',\n",
       " 'بكَوْكَوْ انت مريد منصور عادل كثير الفرح والعطاء والصدقة']"
      ]
     },
     "execution_count": 7,
     "metadata": {},
     "output_type": "execute_result"
    }
   ],
   "source": [
    "doc_ar"
   ]
  },
  {
   "attachments": {},
   "cell_type": "markdown",
   "metadata": {},
   "source": [
    "## Basic Universal Dependency Parsing"
   ]
  },
  {
   "cell_type": "code",
   "execution_count": 8,
   "metadata": {},
   "outputs": [
    {
     "name": "stderr",
     "output_type": "stream",
     "text": [
      "2023-05-10 10:24:45 INFO: Checking for updates to resources.json in case models have been updated.  Note: this behavior can be turned off with download_method=None or download_method=DownloadMethod.REUSE_RESOURCES\n"
     ]
    },
    {
     "data": {
      "application/vnd.jupyter.widget-view+json": {
       "model_id": "447c19bf9cdf4493bd6e77d03261830e",
       "version_major": 2,
       "version_minor": 0
      },
      "text/plain": [
       "Downloading https://raw.githubusercontent.com/stanfordnlp/stanza-resources/main/resources_1.5.0.json:   0%|   …"
      ]
     },
     "metadata": {},
     "output_type": "display_data"
    },
    {
     "data": {
      "application/vnd.jupyter.widget-view+json": {
       "model_id": "74587b3b777946d99995ff2773239145",
       "version_major": 2,
       "version_minor": 0
      },
      "text/plain": [
       "Downloading https://huggingface.co/stanfordnlp/stanza-en/resolve/v1.5.0/models/depparse/combined.pt:   0%|    …"
      ]
     },
     "metadata": {},
     "output_type": "display_data"
    },
    {
     "name": "stderr",
     "output_type": "stream",
     "text": [
      "2023-05-10 10:25:20 INFO: Loading these models for language: en (English):\n",
      "============================\n",
      "| Processor    | Package   |\n",
      "----------------------------\n",
      "| tokenize     | combined  |\n",
      "| pos          | combined  |\n",
      "| lemma        | combined  |\n",
      "| constituency | wsj       |\n",
      "| depparse     | combined  |\n",
      "| sentiment    | sstplus   |\n",
      "| ner          | ontonotes |\n",
      "============================\n",
      "\n",
      "2023-05-10 10:25:20 INFO: Using device: cpu\n",
      "2023-05-10 10:25:20 INFO: Loading: tokenize\n",
      "2023-05-10 10:25:20 INFO: Loading: pos\n",
      "2023-05-10 10:25:20 INFO: Loading: lemma\n",
      "2023-05-10 10:25:20 INFO: Loading: constituency\n",
      "2023-05-10 10:25:20 INFO: Loading: depparse\n",
      "2023-05-10 10:25:20 INFO: Loading: sentiment\n",
      "2023-05-10 10:25:20 INFO: Loading: ner\n",
      "2023-05-10 10:25:21 INFO: Done loading processors!\n",
      "2023-05-10 10:25:21 INFO: Checking for updates to resources.json in case models have been updated.  Note: this behavior can be turned off with download_method=None or download_method=DownloadMethod.REUSE_RESOURCES\n"
     ]
    },
    {
     "data": {
      "application/vnd.jupyter.widget-view+json": {
       "model_id": "80433ee082a7410d8d01535aca8dad9d",
       "version_major": 2,
       "version_minor": 0
      },
      "text/plain": [
       "Downloading https://raw.githubusercontent.com/stanfordnlp/stanza-resources/main/resources_1.5.0.json:   0%|   …"
      ]
     },
     "metadata": {},
     "output_type": "display_data"
    },
    {
     "data": {
      "application/vnd.jupyter.widget-view+json": {
       "model_id": "7a4d4947144b4a22a7577303ed09faef",
       "version_major": 2,
       "version_minor": 0
      },
      "text/plain": [
       "Downloading https://huggingface.co/stanfordnlp/stanza-ar/resolve/v1.5.0/models/depparse/padt.pt:   0%|        …"
      ]
     },
     "metadata": {},
     "output_type": "display_data"
    },
    {
     "name": "stderr",
     "output_type": "stream",
     "text": [
      "2023-05-10 10:26:02 INFO: Loading these models for language: ar (Arabic):\n",
      "=======================\n",
      "| Processor | Package |\n",
      "-----------------------\n",
      "| tokenize  | padt    |\n",
      "| mwt       | padt    |\n",
      "| pos       | padt    |\n",
      "| lemma     | padt    |\n",
      "| depparse  | padt    |\n",
      "| ner       | aqmar   |\n",
      "=======================\n",
      "\n",
      "2023-05-10 10:26:02 INFO: Using device: cpu\n",
      "2023-05-10 10:26:02 INFO: Loading: tokenize\n",
      "2023-05-10 10:26:02 INFO: Loading: mwt\n",
      "2023-05-10 10:26:02 INFO: Loading: pos\n",
      "2023-05-10 10:26:02 INFO: Loading: lemma\n",
      "2023-05-10 10:26:02 INFO: Loading: depparse\n",
      "2023-05-10 10:26:02 INFO: Loading: ner\n",
      "2023-05-10 10:26:03 INFO: Done loading processors!\n"
     ]
    }
   ],
   "source": [
    "nlp_en = stanza.Pipeline(lang='en')\n",
    "nlp_ar = stanza.Pipeline(lang='ar')"
   ]
  },
  {
   "cell_type": "code",
   "execution_count": 9,
   "metadata": {},
   "outputs": [],
   "source": [
    "in_doc_en=[ stanza.Document([], text=line) for line in doc_en ]\n",
    "in_doc_ar=[ stanza.Document([], text=line) for line in doc_ar ]\n",
    "\n",
    "out_doc_en = nlp_en(in_doc_en)\n",
    "out_doc_ar = nlp_ar(in_doc_ar)"
   ]
  },
  {
   "cell_type": "code",
   "execution_count": 14,
   "metadata": {},
   "outputs": [
    {
     "name": "stdout",
     "output_type": "stream",
     "text": [
      "In the name of God, the merciful.\n",
      "1\tIn\tin\tADP\tIN\t3\tcase\tNone\n",
      "2\tthe\tthe\tDET\tDT\t3\tdet\tNone\n",
      "3\tname\tname\tNOUN\tNN\t8\tobl\tNone\n",
      "4\tof\tof\tADP\tIN\t5\tcase\tNone\n",
      "5\tGod\tGod\tPROPN\tNNP\t3\tnmod\tNone\n",
      "6\t,\t,\tPUNCT\t,\t8\tpunct\tNone\n",
      "7\tthe\tthe\tDET\tDT\t8\tdet\tNone\n",
      "8\tmerciful\tmerciful\tADJ\tJJ\t0\troot\tNone\n",
      "9\t.\t.\tPUNCT\t.\t8\tpunct\tNone\n",
      "\n",
      "May\n",
      "1\tMay\tMay\tPROPN\tNNP\t0\troot\tNone\n",
      "\n"
     ]
    }
   ],
   "source": [
    "for sentence in out_doc_en[0].sentences:\n",
    "    print(sentence.text)\n",
    "    for word in sentence.words:\n",
    "        print(word.id, word.text, word.lemma, word.pos, word.xpos, word.head, word.deprel, word.misc, sep='\\t')\n",
    "    print()"
   ]
  },
  {
   "cell_type": "code",
   "execution_count": 11,
   "metadata": {},
   "outputs": [
    {
     "name": "stdout",
     "output_type": "stream",
     "text": [
      "بسم الله الرحمن الرحيم صلى الله على سيدنا محمد\n",
      "1\tبسم\tبسم\tX\tU---------\t0\troot\tNone\n",
      "2\tالله\tالله\tX\tU---------\t3\tnmod\tNone\n",
      "3\tالرحمن\tالرحمن\tX\tU---------\t1\tnmod\tNone\n",
      "4\tالرحيم\tالرحيم\tX\tU---------\t1\tnmod\tNone\n",
      "5\tصلى\tصَلَّى\tVERB\tVP-A-3MS--\t1\tparataxis\tNone\n",
      "6\tالله\tالله\tX\tU---------\t5\tnsubj\tNone\n",
      "7\tعلى\tعَلَى\tADP\tP---------\t8\tcase\tNone\n",
      "8\tسيدنا\tسيدنا\tX\tU---------\t5\tobl:arg\tNone\n",
      "9\tمحمد\tمحمد\tX\tU---------\t8\tnmod\tNone\n",
      "\n"
     ]
    }
   ],
   "source": [
    "for sentence in out_doc_ar[0].sentences:\n",
    "    print(sentence.text)\n",
    "    for word in sentence.words:\n",
    "        print(word.id, word.text, word.lemma, word.pos, word.xpos, word.head, word.deprel, word.misc, sep='\\t')\n",
    "    print()"
   ]
  },
  {
   "cell_type": "code",
   "execution_count": null,
   "metadata": {},
   "outputs": [],
   "source": []
  }
 ],
 "metadata": {
  "kernelspec": {
   "display_name": "NLP",
   "language": "python",
   "name": "python3"
  },
  "language_info": {
   "codemirror_mode": {
    "name": "ipython",
    "version": 3
   },
   "file_extension": ".py",
   "mimetype": "text/x-python",
   "name": "python",
   "nbconvert_exporter": "python",
   "pygments_lexer": "ipython3",
   "version": "3.10.11"
  },
  "orig_nbformat": 4
 },
 "nbformat": 4,
 "nbformat_minor": 2
}
