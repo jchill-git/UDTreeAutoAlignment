{
 "cells": [
  {
   "cell_type": "code",
   "execution_count": 48,
   "metadata": {},
   "outputs": [],
   "source": [
    "import spacy\n",
    "import pandas as pd\n",
    "import numpy as np\n",
    "import re\n",
    "import string\n",
    "import argostranslate.package\n",
    "import argostranslate.translate\n",
    "from tqdm import tqdm"
   ]
  },
  {
   "cell_type": "code",
   "execution_count": 15,
   "metadata": {},
   "outputs": [],
   "source": [
    "with open('arabic_intro.csv',encoding='utf-8-sig') as f:\n",
    "    raw_arabic=f.readlines()"
   ]
  },
  {
   "cell_type": "code",
   "execution_count": 16,
   "metadata": {},
   "outputs": [],
   "source": [
    "lines_arabic=list()\n",
    "for line in range(0,len(raw_arabic)):\n",
    "    text=raw_arabic[line]      \n",
    "    lines_arabic.append(text.strip())"
   ]
  },
  {
   "cell_type": "code",
   "execution_count": 27,
   "metadata": {},
   "outputs": [],
   "source": [
    "with open('french_intro.csv',encoding=\"utf-8-sig\") as f:\n",
    "    raw_french=f.readlines()"
   ]
  },
  {
   "cell_type": "code",
   "execution_count": 38,
   "metadata": {},
   "outputs": [],
   "source": [
    "lines_french=list()\n",
    "for line in range(0,len(raw_french)):\n",
    "    text=raw_french[line]   \n",
    "    lines_french.append(text.replace('\"', '').strip())"
   ]
  },
  {
   "cell_type": "code",
   "execution_count": 57,
   "metadata": {},
   "outputs": [],
   "source": [
    "with open('auto_french_intro.csv',encoding=\"utf-8-sig\") as f:\n",
    "    trans_french=f.readlines()"
   ]
  },
  {
   "cell_type": "code",
   "execution_count": 58,
   "metadata": {},
   "outputs": [],
   "source": [
    "lines_auto_french=list()\n",
    "for line in range(0,len(trans_french)):\n",
    "    text=trans_french[line]   \n",
    "    lines_auto_french.append(text.replace('\"', '').strip())"
   ]
  },
  {
   "cell_type": "code",
   "execution_count": 62,
   "metadata": {},
   "outputs": [],
   "source": [
    "with open('direct_english_intro.csv',encoding=\"utf-8-sig\") as f:\n",
    "    dir_english=f.readlines()"
   ]
  },
  {
   "cell_type": "code",
   "execution_count": 63,
   "metadata": {},
   "outputs": [],
   "source": [
    "lines_direct_english=list()\n",
    "for line in range(0,len(dir_english)):\n",
    "    text=dir_english[line]   \n",
    "    lines_direct_english.append(text.replace('\"', '').strip())"
   ]
  },
  {
   "cell_type": "code",
   "execution_count": 66,
   "metadata": {},
   "outputs": [],
   "source": [
    "with open('indirect_english_intro.csv',encoding=\"utf-8-sig\") as f:\n",
    "    indir_english=f.readlines()"
   ]
  },
  {
   "cell_type": "code",
   "execution_count": 67,
   "metadata": {},
   "outputs": [],
   "source": [
    "lines_indirect_english=list()\n",
    "for line in range(0,len(indir_english)):\n",
    "    text=indir_english[line]   \n",
    "    lines_indirect_english.append(text.replace('\"', '').strip())"
   ]
  },
  {
   "cell_type": "code",
   "execution_count": 69,
   "metadata": {},
   "outputs": [
    {
     "data": {
      "text/plain": [
       "True"
      ]
     },
     "execution_count": 69,
     "metadata": {},
     "output_type": "execute_result"
    }
   ],
   "source": [
    "len(lines_french)==len(lines_arabic)==len(lines_auto_french)==len(lines_direct_english)==len(lines_indirect_english)"
   ]
  },
  {
   "cell_type": "code",
   "execution_count": 74,
   "metadata": {},
   "outputs": [],
   "source": [
    "def buildTree(doc):\n",
    "    ud_tree = dict()\n",
    "    for token in doc:\n",
    "        ud_tree[token.text] = [token.dep_, token.pos_,[child for child in token.children]]\n",
    "    return ud_tree"
   ]
  },
  {
   "cell_type": "code",
   "execution_count": 75,
   "metadata": {},
   "outputs": [],
   "source": [
    "def getRoots(tree_1, tree_2):\n",
    "    root_1=[key for key in tree_1.keys() if tree_1[key][0] == \"ROOT\"][0]\n",
    "    root_2=[key for key in tree_2.keys() if tree_2[key][0] == \"ROOT\"][0]\n",
    "    \n",
    "    return(root_1, root_2)"
   ]
  },
  {
   "cell_type": "code",
   "execution_count": 76,
   "metadata": {},
   "outputs": [],
   "source": [
    "def getChildren(node, tree):\n",
    "    dep_1, pos_1, children = tree[node]\n",
    "    return children"
   ]
  },
  {
   "cell_type": "code",
   "execution_count": 77,
   "metadata": {},
   "outputs": [],
   "source": [
    "def listDescendents(root, tree):\n",
    "    descendents = []\n",
    "    if root is None:\n",
    "        return\n",
    "\n",
    "    queue = []\n",
    "    queue.append(root)\n",
    "    \n",
    "    while len(queue) > 0:\n",
    "        node = queue.pop(0)\n",
    "        descendents.append(str(node)) \n",
    "        \n",
    "        if len(getChildren(str(node), tree))!=0:\n",
    "            for child in getChildren(str(node), tree):\n",
    "                queue.append(child)\n",
    "                \n",
    "    descendents.remove(root)\n",
    "    return descendents"
   ]
  },
  {
   "cell_type": "code",
   "execution_count": 78,
   "metadata": {},
   "outputs": [],
   "source": [
    "def compute_matches(root_1, root_2, tree_1, tree_2, matched):\n",
    "    matches = list()\n",
    "    \n",
    "    #print(matched)\n",
    "    \n",
    "    dep_1, pos_1, children_1 = tree_1[root_1]\n",
    "    dep_2, pos_2, children_2 = tree_2[root_2]\n",
    "    \n",
    "\n",
    "    \n",
    "    #print(tree_1,tree_2)\n",
    "    \n",
    "    #if root one is the root of a subtree\n",
    "    if len(children_1) != 0:\n",
    "        #if subtree matched to leaf\n",
    "        if len(children_2) == 0:\n",
    "            #print(\"tree to leaf!\")\n",
    "            matches.append((root_1, root_2))\n",
    "            matched.append(root_2)\n",
    "            #print(\"root to root\")\n",
    "            print(\"MATCH\",root_1,root_2)\n",
    "            for node in listDescendents(root_1, tree_1):\n",
    "                matches.append((node, root_2))\n",
    "                matched.append(root_2)\n",
    "                print(\"MATCH\",node, root_2)\n",
    "            return\n",
    "        #if subtree matched to subtree\n",
    "        else:\n",
    "            unmatched_children = []\n",
    "            #print(\"tree to tree\")\n",
    "            if pos_1 == pos_2:\n",
    "                matches.append((root_1, root_2))\n",
    "                matched.append(root_2)\n",
    "                #print(\"root to root\")\n",
    "                print(\"MATCH\",root_1,root_2)\n",
    "                #print(tree_1,tree_2)\n",
    "            matched_children = list()\n",
    "            new_tree_1 = {key: value[:] for key, value in tree_1.items()}\n",
    "            new_tree_2 = {key: value[:] for key, value in tree_2.items()}\n",
    "            for node_i in children_1:\n",
    "                matched_status=False\n",
    "                for node_j in children_2:\n",
    "                    #print(\"PROPOSAL\",node_i,node_j)\n",
    "                    #if node_j in tree_2:\n",
    "                    dep_i, pos_i, children_i = tree_1[str(node_i)]\n",
    "                    dep_j, pos_j, children_j = tree_2[str(node_j)]\n",
    "\n",
    "                    if dep_i == dep_j:\n",
    "                        #print(\"MATCH FLAG\")\n",
    "                        matched_status=True\n",
    "                        compute_matches(str(node_i),str(node_j),tree_1,tree_2,matched)\n",
    "                        #del new_tree_1[str(node_i)]\n",
    "                        #del new_tree_2[str(node_j)]\n",
    "        \n",
    "                #if no matches promote to root and align with trimmed tree\n",
    "                if matched_status==False:\n",
    "                    unmatched_children.append(node_i)\n",
    "            for node_i in unmatched_children:\n",
    "                #print(\"unmatched\",unmatched_children)\n",
    "                #print(\"Using trimmed tree\")\n",
    "                compute_matches(str(node_i),root_2,new_tree_1,new_tree_2,matched)\n",
    "    #if current source root is a leaf\n",
    "    else:\n",
    "        #if leaf matched to subtree\n",
    "        if len(children_2) != 0:\n",
    "            #print(\"leaf to tree\")\n",
    "            match_flag=False\n",
    "            for node_i in listDescendents(root_2, tree_2):\n",
    "                dep_i, pos_i, children_i = tree_2[str(node_i)]\n",
    "                #print(\"PROPOSAL\",root_1,pos_1,node_i,pos_i)\n",
    "                if node_i not in matched and pos_1==pos_i:\n",
    "                    match_flag=True\n",
    "                    matches.append((root_1,node_i))\n",
    "                    matched.append(node_i)\n",
    "                    print(\"MATCH\",root_1,node_i)\n",
    "            #if no matches with descendents match to root\n",
    "            if match_flag==False:\n",
    "                matches.append((root_1, root_2))\n",
    "                matched.append(root_2)\n",
    "                #print(\"root to root\")\n",
    "                print(\"MATCH\",root_1,root_2)\n",
    "            return\n",
    "        \n",
    "        #if leaf matched to leaf\n",
    "        else:\n",
    "            #print(\"leaf to leaf\")\n",
    "            matches.append((root_1, root_2))\n",
    "            matched.append(root_2)\n",
    "            #print(\"root to root\")\n",
    "            print(\"MATCH\",root_1,root_2)\n",
    "            return"
   ]
  },
  {
   "cell_type": "code",
   "execution_count": 90,
   "metadata": {},
   "outputs": [],
   "source": [
    "def align(line1,line2,model1,model2):\n",
    "    doc_1 = model1(line1)\n",
    "    doc_2 = model2(line2)\n",
    "    \n",
    "    tree_1=buildTree(doc_1)\n",
    "    tree_2=buildTree(doc_2)\n",
    "    \n",
    "    root_1, root_2 = getRoots(tree_1,tree_2)\n",
    "    \n",
    "    matched=list()\n",
    "    compute_matches(root_1, root_2, tree_1, tree_2, matched)"
   ]
  },
  {
   "cell_type": "code",
   "execution_count": 73,
   "metadata": {},
   "outputs": [],
   "source": [
    "nlp_en = spacy.load(\"en_core_web_sm\")\n",
    "nlp_fr = spacy.load(\"fr_core_news_sm\")"
   ]
  },
  {
   "cell_type": "code",
   "execution_count": 104,
   "metadata": {},
   "outputs": [
    {
     "name": "stdout",
     "output_type": "stream",
     "text": [
      "MATCH cessera cease\n",
      "MATCH fraction fraction\n",
      "MATCH Une A\n",
      "MATCH peuple fraction\n",
      "MATCH mon A\n",
      "MATCH de of\n",
      "MATCH d' in\n",
      "MATCH d' until\n",
      "MATCH être be\n",
      "MATCH dans be\n",
      "MATCH la the\n",
      "MATCH ne cease\n",
      "MATCH jusqu' cease\n",
      "MATCH au cease\n",
      "MATCH viendra cease\n",
      "MATCH heure fraction\n",
      "MATCH l' A\n",
      "MATCH dernière fraction\n",
      "MATCH où my\n"
     ]
    }
   ],
   "source": [
    "align(lines_french[21],lines_indirect_english[21],nlp_fr,nlp_en)"
   ]
  },
  {
   "cell_type": "code",
   "execution_count": 82,
   "metadata": {},
   "outputs": [],
   "source": [
    "doc_fr=nlp_fr(lines_french[0])"
   ]
  },
  {
   "cell_type": "code",
   "execution_count": 84,
   "metadata": {},
   "outputs": [],
   "source": [
    "tree_fr=buildTree(doc_fr)"
   ]
  },
  {
   "cell_type": "code",
   "execution_count": 85,
   "metadata": {},
   "outputs": [],
   "source": [
    "doc_en=nlp_en(lines_indirect_english[0])"
   ]
  },
  {
   "cell_type": "code",
   "execution_count": 86,
   "metadata": {},
   "outputs": [],
   "source": [
    "tree_en=buildTree(doc_en)"
   ]
  },
  {
   "cell_type": "code",
   "execution_count": 87,
   "metadata": {},
   "outputs": [],
   "source": [
    "root1, root2 = getRoots(tree_fr,tree_en)"
   ]
  },
  {
   "cell_type": "code",
   "execution_count": 92,
   "metadata": {},
   "outputs": [
    {
     "data": {
      "text/plain": [
       "{'Au': ['case', 'ADP', []],\n",
       " 'nom': ['ROOT', 'NOUN', [Au, Dieu, ,, clément]],\n",
       " 'de': ['case', 'ADP', []],\n",
       " 'Dieu': ['nmod', 'PROPN', [de]],\n",
       " ',': ['punct', 'PUNCT', []],\n",
       " 'le': ['det', 'DET', []],\n",
       " 'clément': ['nmod', 'NOUN', [le, ,, miséricordieux]],\n",
       " 'miséricordieux': ['appos', 'NOUN', [le]]}"
      ]
     },
     "execution_count": 92,
     "metadata": {},
     "output_type": "execute_result"
    }
   ],
   "source": [
    "tree_fr"
   ]
  },
  {
   "cell_type": "code",
   "execution_count": 93,
   "metadata": {},
   "outputs": [
    {
     "data": {
      "text/plain": [
       "{'In': ['ROOT', 'ADP', [name]],\n",
       " 'the': ['advmod', 'PRON', []],\n",
       " 'name': ['pobj', 'NOUN', [the, of]],\n",
       " 'of': ['prep', 'ADP', [God]],\n",
       " 'God': ['pobj', 'PROPN', [,, merciful]],\n",
       " ',': ['punct', 'PUNCT', []],\n",
       " 'merciful': ['conj', 'ADJ', [the]]}"
      ]
     },
     "execution_count": 93,
     "metadata": {},
     "output_type": "execute_result"
    }
   ],
   "source": [
    "tree_en"
   ]
  }
 ],
 "metadata": {
  "kernelspec": {
   "display_name": "Python 3 (ipykernel)",
   "language": "python",
   "name": "python3"
  },
  "language_info": {
   "codemirror_mode": {
    "name": "ipython",
    "version": 3
   },
   "file_extension": ".py",
   "mimetype": "text/x-python",
   "name": "python",
   "nbconvert_exporter": "python",
   "pygments_lexer": "ipython3",
   "version": "3.7.16"
  }
 },
 "nbformat": 4,
 "nbformat_minor": 2
}
